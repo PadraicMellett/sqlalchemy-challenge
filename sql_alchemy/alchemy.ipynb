{
 "cells": [
  {
   "cell_type": "code",
   "execution_count": 4,
   "source": [
    "%matplotlib inline\r\n",
    "from matplotlib import style\r\n",
    "style.use('fivethirtyeight')\r\n",
    "import matplotlib.pyplot as plt"
   ],
   "outputs": [],
   "metadata": {}
  },
  {
   "cell_type": "code",
   "execution_count": 5,
   "source": [
    "import numpy as np\r\n",
    "import pandas as pd"
   ],
   "outputs": [],
   "metadata": {}
  },
  {
   "cell_type": "code",
   "execution_count": 6,
   "source": [
    "import datetime as dt"
   ],
   "outputs": [],
   "metadata": {}
  },
  {
   "cell_type": "markdown",
   "source": [
    "# Reflect Tables into SQLAlchemy ORM"
   ],
   "metadata": {}
  },
  {
   "cell_type": "code",
   "execution_count": 7,
   "source": [
    "# Python SQL toolkit and Object Relational Mapper\r\n",
    "import sqlalchemy\r\n",
    "from sqlalchemy.ext.automap import automap_base\r\n",
    "from sqlalchemy.orm import Session\r\n",
    "from sqlalchemy import create_engine, func"
   ],
   "outputs": [],
   "metadata": {}
  },
  {
   "cell_type": "code",
   "execution_count": 8,
   "source": [
    "engine = create_engine(\"sqlite:///Resources/hawaii.sqlite\")"
   ],
   "outputs": [],
   "metadata": {}
  },
  {
   "cell_type": "code",
   "execution_count": 9,
   "source": [
    "# reflect an existing database into a new model\r\n",
    "Base = automap_base()\r\n",
    "\r\n",
    "# reflect the tables\r\n",
    "Base.prepare(engine, reflect = True)"
   ],
   "outputs": [],
   "metadata": {}
  },
  {
   "cell_type": "code",
   "execution_count": 10,
   "source": [
    "# We can view all of the classes that automap found\r\n",
    "Base.classes.keys()"
   ],
   "outputs": [
    {
     "output_type": "execute_result",
     "data": {
      "text/plain": [
       "['measurement', 'station']"
      ]
     },
     "metadata": {},
     "execution_count": 10
    }
   ],
   "metadata": {}
  },
  {
   "cell_type": "code",
   "execution_count": 12,
   "source": [
    "# Save references to each table\r\n",
    "Measurement = Base.classes.measurement\r\n",
    "Station = Base.classes.station"
   ],
   "outputs": [],
   "metadata": {}
  },
  {
   "cell_type": "code",
   "execution_count": 13,
   "source": [
    "# Create our session (link) from Python to the DB\r\n",
    "session = Session(engine)"
   ],
   "outputs": [],
   "metadata": {}
  },
  {
   "cell_type": "code",
   "execution_count": 14,
   "source": [
    "session.query(Measurement.date).order_by(Measurement.date.desc()).first()"
   ],
   "outputs": [
    {
     "output_type": "execute_result",
     "data": {
      "text/plain": [
       "('2017-08-23',)"
      ]
     },
     "metadata": {},
     "execution_count": 14
    }
   ],
   "metadata": {}
  },
  {
   "cell_type": "code",
   "execution_count": 16,
   "source": [
    "# Calculate the date 1 year ago from the last data point in the database\r\n",
    "one_year = dt.date(2017, 8, 23) - dt.timedelta(days=365)\r\n",
    "print (one_year)"
   ],
   "outputs": [
    {
     "output_type": "stream",
     "name": "stdout",
     "text": [
      "2016-08-23\n"
     ]
    }
   ],
   "metadata": {}
  },
  {
   "cell_type": "markdown",
   "source": [
    "# Exploratory Climate Analysis"
   ],
   "metadata": {}
  },
  {
   "cell_type": "code",
   "execution_count": 25,
   "source": [
    "# Design a query to retrieve the last 12 months of precipitation data and plot the results\r\n",
    "# Perform a query to retrieve the data and precipitation scores\r\n",
    "last_year = [Measurement.date, Measurement.prcp]\r\n",
    "precip = session.query(*last_year).filter(Measurement.date >= '2016-08-23').all()\r\n",
    "print(last_year)\r\n",
    "\r\n",
    "\r\n"
   ],
   "outputs": [
    {
     "output_type": "stream",
     "name": "stdout",
     "text": [
      "[<sqlalchemy.orm.attributes.InstrumentedAttribute object at 0x000001FA86F50BD0>, <sqlalchemy.orm.attributes.InstrumentedAttribute object at 0x000001FA86F50C70>]\n"
     ]
    }
   ],
   "metadata": {}
  },
  {
   "cell_type": "code",
   "execution_count": 27,
   "source": [
    "\r\n",
    "# Save the query results as a Pandas DataFrame and set the index to the date column\r\n",
    "precip_df = pd.DataFrame(precip).rename(columns={\"date\": \"Date\", \"prcp\": \"Precipitation\"}).dropna()\r\n",
    "precip_df.head()\r\n",
    "\r\n",
    "# Sort the dataframe by date\r\n",
    "\r\n",
    "# Use Pandas Plotting with Matplotlib to plot the data"
   ],
   "outputs": [
    {
     "output_type": "execute_result",
     "data": {
      "text/plain": [
       "            0     1\n",
       "0  2016-08-23  0.00\n",
       "1  2016-08-24  0.08\n",
       "2  2016-08-25  0.08\n",
       "3  2016-08-26  0.00\n",
       "4  2016-08-27  0.00"
      ],
      "text/html": [
       "<div>\n",
       "<style scoped>\n",
       "    .dataframe tbody tr th:only-of-type {\n",
       "        vertical-align: middle;\n",
       "    }\n",
       "\n",
       "    .dataframe tbody tr th {\n",
       "        vertical-align: top;\n",
       "    }\n",
       "\n",
       "    .dataframe thead th {\n",
       "        text-align: right;\n",
       "    }\n",
       "</style>\n",
       "<table border=\"1\" class=\"dataframe\">\n",
       "  <thead>\n",
       "    <tr style=\"text-align: right;\">\n",
       "      <th></th>\n",
       "      <th>0</th>\n",
       "      <th>1</th>\n",
       "    </tr>\n",
       "  </thead>\n",
       "  <tbody>\n",
       "    <tr>\n",
       "      <th>0</th>\n",
       "      <td>2016-08-23</td>\n",
       "      <td>0.00</td>\n",
       "    </tr>\n",
       "    <tr>\n",
       "      <th>1</th>\n",
       "      <td>2016-08-24</td>\n",
       "      <td>0.08</td>\n",
       "    </tr>\n",
       "    <tr>\n",
       "      <th>2</th>\n",
       "      <td>2016-08-25</td>\n",
       "      <td>0.08</td>\n",
       "    </tr>\n",
       "    <tr>\n",
       "      <th>3</th>\n",
       "      <td>2016-08-26</td>\n",
       "      <td>0.00</td>\n",
       "    </tr>\n",
       "    <tr>\n",
       "      <th>4</th>\n",
       "      <td>2016-08-27</td>\n",
       "      <td>0.00</td>\n",
       "    </tr>\n",
       "  </tbody>\n",
       "</table>\n",
       "</div>"
      ]
     },
     "metadata": {},
     "execution_count": 27
    }
   ],
   "metadata": {}
  },
  {
   "cell_type": "code",
   "execution_count": 60,
   "source": [
    "# Use Pandas Plotting with Matplotlib to plot the data\r\n",
    "fig, ax = plt.subplots(figsize = (14,6))\r\n",
    "precip_df.plot(ax = ax, x_compat =True)\r\n",
    "ax.set_xlabel('Date')\r\n",
    "ax.set_ylabel('Precipitation (inches)')\r\n",
    "ax.set_title(\"Precipitation 08/2016 - 08/2017\")\r\n",
    "plt.savefig(\"Precipitation 001.png\")\r\n",
    "plt.show"
   ],
   "outputs": [
    {
     "output_type": "execute_result",
     "data": {
      "text/plain": [
       "<function matplotlib.pyplot.show(close=None, block=None)>"
      ]
     },
     "metadata": {},
     "execution_count": 60
    },
    {
     "output_type": "display_data",
     "data": {
      "text/plain": [
       "<Figure size 1008x432 with 1 Axes>"
      ],
      "image/svg+xml": "<?xml version=\"1.0\" encoding=\"utf-8\" standalone=\"no\"?>\r\n<!DOCTYPE svg PUBLIC \"-//W3C//DTD SVG 1.1//EN\"\r\n  \"http://www.w3.org/Graphics/SVG/1.1/DTD/svg11.dtd\">\r\n<svg height=\"422.947075pt\" version=\"1.1\" viewBox=\"0 0 924.02675 422.947075\" width=\"924.02675pt\" xmlns=\"http://www.w3.org/2000/svg\" xmlns:xlink=\"http://www.w3.org/1999/xlink\">\r\n <metadata>\r\n  <rdf:RDF xmlns:cc=\"http://creativecommons.org/ns#\" xmlns:dc=\"http://purl.org/dc/elements/1.1/\" xmlns:rdf=\"http://www.w3.org/1999/02/22-rdf-syntax-ns#\">\r\n   <cc:Work>\r\n    <dc:type rdf:resource=\"http://purl.org/dc/dcmitype/StillImage\"/>\r\n    <dc:date>2021-08-23T15:12:57.249293</dc:date>\r\n    <dc:format>image/svg+xml</dc:format>\r\n    <dc:creator>\r\n     <cc:Agent>\r\n      <dc:title>Matplotlib v3.4.2, https://matplotlib.org/</dc:title>\r\n     </cc:Agent>\r\n    </dc:creator>\r\n   </cc:Work>\r\n  </rdf:RDF>\r\n </metadata>\r\n <defs>\r\n  <style type=\"text/css\">*{stroke-linecap:butt;stroke-linejoin:round;}</style>\r\n </defs>\r\n <g id=\"figure_1\">\r\n  <g id=\"patch_1\">\r\n   <path d=\"M 0 422.947075 \r\nL 924.02675 422.947075 \r\nL 924.02675 0 \r\nL 0 0 \r\nz\r\n\" style=\"fill:#f0f0f0;\"/>\r\n  </g>\r\n  <g id=\"axes_1\">\r\n   <g id=\"patch_2\">\r\n    <path d=\"M 39.86675 378.43845 \r\nL 916.82675 378.43845 \r\nL 916.82675 28.51845 \r\nL 39.86675 28.51845 \r\nz\r\n\" style=\"fill:#f0f0f0;\"/>\r\n   </g>\r\n   <g id=\"matplotlib.axis_1\">\r\n    <g id=\"xtick_1\">\r\n     <g id=\"line2d_1\">\r\n      <path clip-path=\"url(#p8b31795433)\" d=\"M 79.728568 378.43845 \r\nL 79.728568 28.51845 \r\n\" style=\"fill:none;stroke:#cbcbcb;\"/>\r\n     </g>\r\n     <g id=\"line2d_2\"/>\r\n     <g id=\"text_1\">\r\n      <!-- 0 -->\r\n      <g transform=\"translate(75.274818 392.576263)scale(0.14 -0.14)\">\r\n       <defs>\r\n        <path d=\"M 2034 4250 \r\nQ 1547 4250 1301 3770 \r\nQ 1056 3291 1056 2328 \r\nQ 1056 1369 1301 889 \r\nQ 1547 409 2034 409 \r\nQ 2525 409 2770 889 \r\nQ 3016 1369 3016 2328 \r\nQ 3016 3291 2770 3770 \r\nQ 2525 4250 2034 4250 \r\nz\r\nM 2034 4750 \r\nQ 2819 4750 3233 4129 \r\nQ 3647 3509 3647 2328 \r\nQ 3647 1150 3233 529 \r\nQ 2819 -91 2034 -91 \r\nQ 1250 -91 836 529 \r\nQ 422 1150 422 2328 \r\nQ 422 3509 836 4129 \r\nQ 1250 4750 2034 4750 \r\nz\r\n\" id=\"DejaVuSans-30\" transform=\"scale(0.015625)\"/>\r\n       </defs>\r\n       <use xlink:href=\"#DejaVuSans-30\"/>\r\n      </g>\r\n     </g>\r\n    </g>\r\n    <g id=\"xtick_2\">\r\n     <g id=\"line2d_3\">\r\n      <path clip-path=\"url(#p8b31795433)\" d=\"M 258.56131 378.43845 \r\nL 258.56131 28.51845 \r\n\" style=\"fill:none;stroke:#cbcbcb;\"/>\r\n     </g>\r\n     <g id=\"line2d_4\"/>\r\n     <g id=\"text_2\">\r\n      <!-- 500 -->\r\n      <g transform=\"translate(245.20006 392.576263)scale(0.14 -0.14)\">\r\n       <defs>\r\n        <path d=\"M 691 4666 \r\nL 3169 4666 \r\nL 3169 4134 \r\nL 1269 4134 \r\nL 1269 2991 \r\nQ 1406 3038 1543 3061 \r\nQ 1681 3084 1819 3084 \r\nQ 2600 3084 3056 2656 \r\nQ 3513 2228 3513 1497 \r\nQ 3513 744 3044 326 \r\nQ 2575 -91 1722 -91 \r\nQ 1428 -91 1123 -41 \r\nQ 819 9 494 109 \r\nL 494 744 \r\nQ 775 591 1075 516 \r\nQ 1375 441 1709 441 \r\nQ 2250 441 2565 725 \r\nQ 2881 1009 2881 1497 \r\nQ 2881 1984 2565 2268 \r\nQ 2250 2553 1709 2553 \r\nQ 1456 2553 1204 2497 \r\nQ 953 2441 691 2322 \r\nL 691 4666 \r\nz\r\n\" id=\"DejaVuSans-35\" transform=\"scale(0.015625)\"/>\r\n       </defs>\r\n       <use xlink:href=\"#DejaVuSans-35\"/>\r\n       <use x=\"63.623047\" xlink:href=\"#DejaVuSans-30\"/>\r\n       <use x=\"127.246094\" xlink:href=\"#DejaVuSans-30\"/>\r\n      </g>\r\n     </g>\r\n    </g>\r\n    <g id=\"xtick_3\">\r\n     <g id=\"line2d_5\">\r\n      <path clip-path=\"url(#p8b31795433)\" d=\"M 437.394052 378.43845 \r\nL 437.394052 28.51845 \r\n\" style=\"fill:none;stroke:#cbcbcb;\"/>\r\n     </g>\r\n     <g id=\"line2d_6\"/>\r\n     <g id=\"text_3\">\r\n      <!-- 1000 -->\r\n      <g transform=\"translate(419.579052 392.576263)scale(0.14 -0.14)\">\r\n       <defs>\r\n        <path d=\"M 794 531 \r\nL 1825 531 \r\nL 1825 4091 \r\nL 703 3866 \r\nL 703 4441 \r\nL 1819 4666 \r\nL 2450 4666 \r\nL 2450 531 \r\nL 3481 531 \r\nL 3481 0 \r\nL 794 0 \r\nL 794 531 \r\nz\r\n\" id=\"DejaVuSans-31\" transform=\"scale(0.015625)\"/>\r\n       </defs>\r\n       <use xlink:href=\"#DejaVuSans-31\"/>\r\n       <use x=\"63.623047\" xlink:href=\"#DejaVuSans-30\"/>\r\n       <use x=\"127.246094\" xlink:href=\"#DejaVuSans-30\"/>\r\n       <use x=\"190.869141\" xlink:href=\"#DejaVuSans-30\"/>\r\n      </g>\r\n     </g>\r\n    </g>\r\n    <g id=\"xtick_4\">\r\n     <g id=\"line2d_7\">\r\n      <path clip-path=\"url(#p8b31795433)\" d=\"M 616.226794 378.43845 \r\nL 616.226794 28.51845 \r\n\" style=\"fill:none;stroke:#cbcbcb;\"/>\r\n     </g>\r\n     <g id=\"line2d_8\"/>\r\n     <g id=\"text_4\">\r\n      <!-- 1500 -->\r\n      <g transform=\"translate(598.411794 392.576263)scale(0.14 -0.14)\">\r\n       <use xlink:href=\"#DejaVuSans-31\"/>\r\n       <use x=\"63.623047\" xlink:href=\"#DejaVuSans-35\"/>\r\n       <use x=\"127.246094\" xlink:href=\"#DejaVuSans-30\"/>\r\n       <use x=\"190.869141\" xlink:href=\"#DejaVuSans-30\"/>\r\n      </g>\r\n     </g>\r\n    </g>\r\n    <g id=\"xtick_5\">\r\n     <g id=\"line2d_9\">\r\n      <path clip-path=\"url(#p8b31795433)\" d=\"M 795.059536 378.43845 \r\nL 795.059536 28.51845 \r\n\" style=\"fill:none;stroke:#cbcbcb;\"/>\r\n     </g>\r\n     <g id=\"line2d_10\"/>\r\n     <g id=\"text_5\">\r\n      <!-- 2000 -->\r\n      <g transform=\"translate(777.244536 392.576263)scale(0.14 -0.14)\">\r\n       <defs>\r\n        <path d=\"M 1228 531 \r\nL 3431 531 \r\nL 3431 0 \r\nL 469 0 \r\nL 469 531 \r\nQ 828 903 1448 1529 \r\nQ 2069 2156 2228 2338 \r\nQ 2531 2678 2651 2914 \r\nQ 2772 3150 2772 3378 \r\nQ 2772 3750 2511 3984 \r\nQ 2250 4219 1831 4219 \r\nQ 1534 4219 1204 4116 \r\nQ 875 4013 500 3803 \r\nL 500 4441 \r\nQ 881 4594 1212 4672 \r\nQ 1544 4750 1819 4750 \r\nQ 2544 4750 2975 4387 \r\nQ 3406 4025 3406 3419 \r\nQ 3406 3131 3298 2873 \r\nQ 3191 2616 2906 2266 \r\nQ 2828 2175 2409 1742 \r\nQ 1991 1309 1228 531 \r\nz\r\n\" id=\"DejaVuSans-32\" transform=\"scale(0.015625)\"/>\r\n       </defs>\r\n       <use xlink:href=\"#DejaVuSans-32\"/>\r\n       <use x=\"63.623047\" xlink:href=\"#DejaVuSans-30\"/>\r\n       <use x=\"127.246094\" xlink:href=\"#DejaVuSans-30\"/>\r\n       <use x=\"190.869141\" xlink:href=\"#DejaVuSans-30\"/>\r\n      </g>\r\n     </g>\r\n    </g>\r\n    <g id=\"text_6\">\r\n     <!-- Date -->\r\n     <g transform=\"translate(458.269437 412.2532)scale(0.168 -0.168)\">\r\n      <defs>\r\n       <path d=\"M 1259 4147 \r\nL 1259 519 \r\nL 2022 519 \r\nQ 2988 519 3436 956 \r\nQ 3884 1394 3884 2338 \r\nQ 3884 3275 3436 3711 \r\nQ 2988 4147 2022 4147 \r\nL 1259 4147 \r\nz\r\nM 628 4666 \r\nL 1925 4666 \r\nQ 3281 4666 3915 4102 \r\nQ 4550 3538 4550 2338 \r\nQ 4550 1131 3912 565 \r\nQ 3275 0 1925 0 \r\nL 628 0 \r\nL 628 4666 \r\nz\r\n\" id=\"DejaVuSans-44\" transform=\"scale(0.015625)\"/>\r\n       <path d=\"M 2194 1759 \r\nQ 1497 1759 1228 1600 \r\nQ 959 1441 959 1056 \r\nQ 959 750 1161 570 \r\nQ 1363 391 1709 391 \r\nQ 2188 391 2477 730 \r\nQ 2766 1069 2766 1631 \r\nL 2766 1759 \r\nL 2194 1759 \r\nz\r\nM 3341 1997 \r\nL 3341 0 \r\nL 2766 0 \r\nL 2766 531 \r\nQ 2569 213 2275 61 \r\nQ 1981 -91 1556 -91 \r\nQ 1019 -91 701 211 \r\nQ 384 513 384 1019 \r\nQ 384 1609 779 1909 \r\nQ 1175 2209 1959 2209 \r\nL 2766 2209 \r\nL 2766 2266 \r\nQ 2766 2663 2505 2880 \r\nQ 2244 3097 1772 3097 \r\nQ 1472 3097 1187 3025 \r\nQ 903 2953 641 2809 \r\nL 641 3341 \r\nQ 956 3463 1253 3523 \r\nQ 1550 3584 1831 3584 \r\nQ 2591 3584 2966 3190 \r\nQ 3341 2797 3341 1997 \r\nz\r\n\" id=\"DejaVuSans-61\" transform=\"scale(0.015625)\"/>\r\n       <path d=\"M 1172 4494 \r\nL 1172 3500 \r\nL 2356 3500 \r\nL 2356 3053 \r\nL 1172 3053 \r\nL 1172 1153 \r\nQ 1172 725 1289 603 \r\nQ 1406 481 1766 481 \r\nL 2356 481 \r\nL 2356 0 \r\nL 1766 0 \r\nQ 1100 0 847 248 \r\nQ 594 497 594 1153 \r\nL 594 3053 \r\nL 172 3053 \r\nL 172 3500 \r\nL 594 3500 \r\nL 594 4494 \r\nL 1172 4494 \r\nz\r\n\" id=\"DejaVuSans-74\" transform=\"scale(0.015625)\"/>\r\n       <path d=\"M 3597 1894 \r\nL 3597 1613 \r\nL 953 1613 \r\nQ 991 1019 1311 708 \r\nQ 1631 397 2203 397 \r\nQ 2534 397 2845 478 \r\nQ 3156 559 3463 722 \r\nL 3463 178 \r\nQ 3153 47 2828 -22 \r\nQ 2503 -91 2169 -91 \r\nQ 1331 -91 842 396 \r\nQ 353 884 353 1716 \r\nQ 353 2575 817 3079 \r\nQ 1281 3584 2069 3584 \r\nQ 2775 3584 3186 3129 \r\nQ 3597 2675 3597 1894 \r\nz\r\nM 3022 2063 \r\nQ 3016 2534 2758 2815 \r\nQ 2500 3097 2075 3097 \r\nQ 1594 3097 1305 2825 \r\nQ 1016 2553 972 2059 \r\nL 3022 2063 \r\nz\r\n\" id=\"DejaVuSans-65\" transform=\"scale(0.015625)\"/>\r\n      </defs>\r\n      <use xlink:href=\"#DejaVuSans-44\"/>\r\n      <use x=\"77.001953\" xlink:href=\"#DejaVuSans-61\"/>\r\n      <use x=\"138.28125\" xlink:href=\"#DejaVuSans-74\"/>\r\n      <use x=\"177.490234\" xlink:href=\"#DejaVuSans-65\"/>\r\n     </g>\r\n    </g>\r\n   </g>\r\n   <g id=\"matplotlib.axis_2\">\r\n    <g id=\"ytick_1\">\r\n     <g id=\"line2d_11\">\r\n      <path clip-path=\"url(#p8b31795433)\" d=\"M 39.86675 362.532995 \r\nL 916.82675 362.532995 \r\n\" style=\"fill:none;stroke:#cbcbcb;\"/>\r\n     </g>\r\n     <g id=\"line2d_12\"/>\r\n     <g id=\"text_7\">\r\n      <!-- 0 -->\r\n      <g transform=\"translate(27.45925 367.851902)scale(0.14 -0.14)\">\r\n       <use xlink:href=\"#DejaVuSans-30\"/>\r\n      </g>\r\n     </g>\r\n    </g>\r\n    <g id=\"ytick_2\">\r\n     <g id=\"line2d_13\">\r\n      <path clip-path=\"url(#p8b31795433)\" d=\"M 39.86675 315.054027 \r\nL 916.82675 315.054027 \r\n\" style=\"fill:none;stroke:#cbcbcb;\"/>\r\n     </g>\r\n     <g id=\"line2d_14\"/>\r\n     <g id=\"text_8\">\r\n      <!-- 1 -->\r\n      <g transform=\"translate(27.45925 320.372933)scale(0.14 -0.14)\">\r\n       <use xlink:href=\"#DejaVuSans-31\"/>\r\n      </g>\r\n     </g>\r\n    </g>\r\n    <g id=\"ytick_3\">\r\n     <g id=\"line2d_15\">\r\n      <path clip-path=\"url(#p8b31795433)\" d=\"M 39.86675 267.575058 \r\nL 916.82675 267.575058 \r\n\" style=\"fill:none;stroke:#cbcbcb;\"/>\r\n     </g>\r\n     <g id=\"line2d_16\"/>\r\n     <g id=\"text_9\">\r\n      <!-- 2 -->\r\n      <g transform=\"translate(27.45925 272.893964)scale(0.14 -0.14)\">\r\n       <use xlink:href=\"#DejaVuSans-32\"/>\r\n      </g>\r\n     </g>\r\n    </g>\r\n    <g id=\"ytick_4\">\r\n     <g id=\"line2d_17\">\r\n      <path clip-path=\"url(#p8b31795433)\" d=\"M 39.86675 220.096089 \r\nL 916.82675 220.096089 \r\n\" style=\"fill:none;stroke:#cbcbcb;\"/>\r\n     </g>\r\n     <g id=\"line2d_18\"/>\r\n     <g id=\"text_10\">\r\n      <!-- 3 -->\r\n      <g transform=\"translate(27.45925 225.414995)scale(0.14 -0.14)\">\r\n       <defs>\r\n        <path d=\"M 2597 2516 \r\nQ 3050 2419 3304 2112 \r\nQ 3559 1806 3559 1356 \r\nQ 3559 666 3084 287 \r\nQ 2609 -91 1734 -91 \r\nQ 1441 -91 1130 -33 \r\nQ 819 25 488 141 \r\nL 488 750 \r\nQ 750 597 1062 519 \r\nQ 1375 441 1716 441 \r\nQ 2309 441 2620 675 \r\nQ 2931 909 2931 1356 \r\nQ 2931 1769 2642 2001 \r\nQ 2353 2234 1838 2234 \r\nL 1294 2234 \r\nL 1294 2753 \r\nL 1863 2753 \r\nQ 2328 2753 2575 2939 \r\nQ 2822 3125 2822 3475 \r\nQ 2822 3834 2567 4026 \r\nQ 2313 4219 1838 4219 \r\nQ 1578 4219 1281 4162 \r\nQ 984 4106 628 3988 \r\nL 628 4550 \r\nQ 988 4650 1302 4700 \r\nQ 1616 4750 1894 4750 \r\nQ 2613 4750 3031 4423 \r\nQ 3450 4097 3450 3541 \r\nQ 3450 3153 3228 2886 \r\nQ 3006 2619 2597 2516 \r\nz\r\n\" id=\"DejaVuSans-33\" transform=\"scale(0.015625)\"/>\r\n       </defs>\r\n       <use xlink:href=\"#DejaVuSans-33\"/>\r\n      </g>\r\n     </g>\r\n    </g>\r\n    <g id=\"ytick_5\">\r\n     <g id=\"line2d_19\">\r\n      <path clip-path=\"url(#p8b31795433)\" d=\"M 39.86675 172.61712 \r\nL 916.82675 172.61712 \r\n\" style=\"fill:none;stroke:#cbcbcb;\"/>\r\n     </g>\r\n     <g id=\"line2d_20\"/>\r\n     <g id=\"text_11\">\r\n      <!-- 4 -->\r\n      <g transform=\"translate(27.45925 177.936027)scale(0.14 -0.14)\">\r\n       <defs>\r\n        <path d=\"M 2419 4116 \r\nL 825 1625 \r\nL 2419 1625 \r\nL 2419 4116 \r\nz\r\nM 2253 4666 \r\nL 3047 4666 \r\nL 3047 1625 \r\nL 3713 1625 \r\nL 3713 1100 \r\nL 3047 1100 \r\nL 3047 0 \r\nL 2419 0 \r\nL 2419 1100 \r\nL 313 1100 \r\nL 313 1709 \r\nL 2253 4666 \r\nz\r\n\" id=\"DejaVuSans-34\" transform=\"scale(0.015625)\"/>\r\n       </defs>\r\n       <use xlink:href=\"#DejaVuSans-34\"/>\r\n      </g>\r\n     </g>\r\n    </g>\r\n    <g id=\"ytick_6\">\r\n     <g id=\"line2d_21\">\r\n      <path clip-path=\"url(#p8b31795433)\" d=\"M 39.86675 125.138151 \r\nL 916.82675 125.138151 \r\n\" style=\"fill:none;stroke:#cbcbcb;\"/>\r\n     </g>\r\n     <g id=\"line2d_22\"/>\r\n     <g id=\"text_12\">\r\n      <!-- 5 -->\r\n      <g transform=\"translate(27.45925 130.457058)scale(0.14 -0.14)\">\r\n       <use xlink:href=\"#DejaVuSans-35\"/>\r\n      </g>\r\n     </g>\r\n    </g>\r\n    <g id=\"ytick_7\">\r\n     <g id=\"line2d_23\">\r\n      <path clip-path=\"url(#p8b31795433)\" d=\"M 39.86675 77.659183 \r\nL 916.82675 77.659183 \r\n\" style=\"fill:none;stroke:#cbcbcb;\"/>\r\n     </g>\r\n     <g id=\"line2d_24\"/>\r\n     <g id=\"text_13\">\r\n      <!-- 6 -->\r\n      <g transform=\"translate(27.45925 82.978089)scale(0.14 -0.14)\">\r\n       <defs>\r\n        <path d=\"M 2113 2584 \r\nQ 1688 2584 1439 2293 \r\nQ 1191 2003 1191 1497 \r\nQ 1191 994 1439 701 \r\nQ 1688 409 2113 409 \r\nQ 2538 409 2786 701 \r\nQ 3034 994 3034 1497 \r\nQ 3034 2003 2786 2293 \r\nQ 2538 2584 2113 2584 \r\nz\r\nM 3366 4563 \r\nL 3366 3988 \r\nQ 3128 4100 2886 4159 \r\nQ 2644 4219 2406 4219 \r\nQ 1781 4219 1451 3797 \r\nQ 1122 3375 1075 2522 \r\nQ 1259 2794 1537 2939 \r\nQ 1816 3084 2150 3084 \r\nQ 2853 3084 3261 2657 \r\nQ 3669 2231 3669 1497 \r\nQ 3669 778 3244 343 \r\nQ 2819 -91 2113 -91 \r\nQ 1303 -91 875 529 \r\nQ 447 1150 447 2328 \r\nQ 447 3434 972 4092 \r\nQ 1497 4750 2381 4750 \r\nQ 2619 4750 2861 4703 \r\nQ 3103 4656 3366 4563 \r\nz\r\n\" id=\"DejaVuSans-36\" transform=\"scale(0.015625)\"/>\r\n       </defs>\r\n       <use xlink:href=\"#DejaVuSans-36\"/>\r\n      </g>\r\n     </g>\r\n    </g>\r\n    <g id=\"ytick_8\">\r\n     <g id=\"line2d_25\">\r\n      <path clip-path=\"url(#p8b31795433)\" d=\"M 39.86675 30.180214 \r\nL 916.82675 30.180214 \r\n\" style=\"fill:none;stroke:#cbcbcb;\"/>\r\n     </g>\r\n     <g id=\"line2d_26\"/>\r\n     <g id=\"text_14\">\r\n      <!-- 7 -->\r\n      <g transform=\"translate(27.45925 35.49912)scale(0.14 -0.14)\">\r\n       <defs>\r\n        <path d=\"M 525 4666 \r\nL 3525 4666 \r\nL 3525 4397 \r\nL 1831 0 \r\nL 1172 0 \r\nL 2766 4134 \r\nL 525 4134 \r\nL 525 4666 \r\nz\r\n\" id=\"DejaVuSans-37\" transform=\"scale(0.015625)\"/>\r\n       </defs>\r\n       <use xlink:href=\"#DejaVuSans-37\"/>\r\n      </g>\r\n     </g>\r\n    </g>\r\n    <g id=\"text_15\">\r\n     <!-- Precipitation (inches) -->\r\n     <g transform=\"translate(19.965375 292.346513)rotate(-90)scale(0.168 -0.168)\">\r\n      <defs>\r\n       <path d=\"M 1259 4147 \r\nL 1259 2394 \r\nL 2053 2394 \r\nQ 2494 2394 2734 2622 \r\nQ 2975 2850 2975 3272 \r\nQ 2975 3691 2734 3919 \r\nQ 2494 4147 2053 4147 \r\nL 1259 4147 \r\nz\r\nM 628 4666 \r\nL 2053 4666 \r\nQ 2838 4666 3239 4311 \r\nQ 3641 3956 3641 3272 \r\nQ 3641 2581 3239 2228 \r\nQ 2838 1875 2053 1875 \r\nL 1259 1875 \r\nL 1259 0 \r\nL 628 0 \r\nL 628 4666 \r\nz\r\n\" id=\"DejaVuSans-50\" transform=\"scale(0.015625)\"/>\r\n       <path d=\"M 2631 2963 \r\nQ 2534 3019 2420 3045 \r\nQ 2306 3072 2169 3072 \r\nQ 1681 3072 1420 2755 \r\nQ 1159 2438 1159 1844 \r\nL 1159 0 \r\nL 581 0 \r\nL 581 3500 \r\nL 1159 3500 \r\nL 1159 2956 \r\nQ 1341 3275 1631 3429 \r\nQ 1922 3584 2338 3584 \r\nQ 2397 3584 2469 3576 \r\nQ 2541 3569 2628 3553 \r\nL 2631 2963 \r\nz\r\n\" id=\"DejaVuSans-72\" transform=\"scale(0.015625)\"/>\r\n       <path d=\"M 3122 3366 \r\nL 3122 2828 \r\nQ 2878 2963 2633 3030 \r\nQ 2388 3097 2138 3097 \r\nQ 1578 3097 1268 2742 \r\nQ 959 2388 959 1747 \r\nQ 959 1106 1268 751 \r\nQ 1578 397 2138 397 \r\nQ 2388 397 2633 464 \r\nQ 2878 531 3122 666 \r\nL 3122 134 \r\nQ 2881 22 2623 -34 \r\nQ 2366 -91 2075 -91 \r\nQ 1284 -91 818 406 \r\nQ 353 903 353 1747 \r\nQ 353 2603 823 3093 \r\nQ 1294 3584 2113 3584 \r\nQ 2378 3584 2631 3529 \r\nQ 2884 3475 3122 3366 \r\nz\r\n\" id=\"DejaVuSans-63\" transform=\"scale(0.015625)\"/>\r\n       <path d=\"M 603 3500 \r\nL 1178 3500 \r\nL 1178 0 \r\nL 603 0 \r\nL 603 3500 \r\nz\r\nM 603 4863 \r\nL 1178 4863 \r\nL 1178 4134 \r\nL 603 4134 \r\nL 603 4863 \r\nz\r\n\" id=\"DejaVuSans-69\" transform=\"scale(0.015625)\"/>\r\n       <path d=\"M 1159 525 \r\nL 1159 -1331 \r\nL 581 -1331 \r\nL 581 3500 \r\nL 1159 3500 \r\nL 1159 2969 \r\nQ 1341 3281 1617 3432 \r\nQ 1894 3584 2278 3584 \r\nQ 2916 3584 3314 3078 \r\nQ 3713 2572 3713 1747 \r\nQ 3713 922 3314 415 \r\nQ 2916 -91 2278 -91 \r\nQ 1894 -91 1617 61 \r\nQ 1341 213 1159 525 \r\nz\r\nM 3116 1747 \r\nQ 3116 2381 2855 2742 \r\nQ 2594 3103 2138 3103 \r\nQ 1681 3103 1420 2742 \r\nQ 1159 2381 1159 1747 \r\nQ 1159 1113 1420 752 \r\nQ 1681 391 2138 391 \r\nQ 2594 391 2855 752 \r\nQ 3116 1113 3116 1747 \r\nz\r\n\" id=\"DejaVuSans-70\" transform=\"scale(0.015625)\"/>\r\n       <path d=\"M 1959 3097 \r\nQ 1497 3097 1228 2736 \r\nQ 959 2375 959 1747 \r\nQ 959 1119 1226 758 \r\nQ 1494 397 1959 397 \r\nQ 2419 397 2687 759 \r\nQ 2956 1122 2956 1747 \r\nQ 2956 2369 2687 2733 \r\nQ 2419 3097 1959 3097 \r\nz\r\nM 1959 3584 \r\nQ 2709 3584 3137 3096 \r\nQ 3566 2609 3566 1747 \r\nQ 3566 888 3137 398 \r\nQ 2709 -91 1959 -91 \r\nQ 1206 -91 779 398 \r\nQ 353 888 353 1747 \r\nQ 353 2609 779 3096 \r\nQ 1206 3584 1959 3584 \r\nz\r\n\" id=\"DejaVuSans-6f\" transform=\"scale(0.015625)\"/>\r\n       <path d=\"M 3513 2113 \r\nL 3513 0 \r\nL 2938 0 \r\nL 2938 2094 \r\nQ 2938 2591 2744 2837 \r\nQ 2550 3084 2163 3084 \r\nQ 1697 3084 1428 2787 \r\nQ 1159 2491 1159 1978 \r\nL 1159 0 \r\nL 581 0 \r\nL 581 3500 \r\nL 1159 3500 \r\nL 1159 2956 \r\nQ 1366 3272 1645 3428 \r\nQ 1925 3584 2291 3584 \r\nQ 2894 3584 3203 3211 \r\nQ 3513 2838 3513 2113 \r\nz\r\n\" id=\"DejaVuSans-6e\" transform=\"scale(0.015625)\"/>\r\n       <path id=\"DejaVuSans-20\" transform=\"scale(0.015625)\"/>\r\n       <path d=\"M 1984 4856 \r\nQ 1566 4138 1362 3434 \r\nQ 1159 2731 1159 2009 \r\nQ 1159 1288 1364 580 \r\nQ 1569 -128 1984 -844 \r\nL 1484 -844 \r\nQ 1016 -109 783 600 \r\nQ 550 1309 550 2009 \r\nQ 550 2706 781 3412 \r\nQ 1013 4119 1484 4856 \r\nL 1984 4856 \r\nz\r\n\" id=\"DejaVuSans-28\" transform=\"scale(0.015625)\"/>\r\n       <path d=\"M 3513 2113 \r\nL 3513 0 \r\nL 2938 0 \r\nL 2938 2094 \r\nQ 2938 2591 2744 2837 \r\nQ 2550 3084 2163 3084 \r\nQ 1697 3084 1428 2787 \r\nQ 1159 2491 1159 1978 \r\nL 1159 0 \r\nL 581 0 \r\nL 581 4863 \r\nL 1159 4863 \r\nL 1159 2956 \r\nQ 1366 3272 1645 3428 \r\nQ 1925 3584 2291 3584 \r\nQ 2894 3584 3203 3211 \r\nQ 3513 2838 3513 2113 \r\nz\r\n\" id=\"DejaVuSans-68\" transform=\"scale(0.015625)\"/>\r\n       <path d=\"M 2834 3397 \r\nL 2834 2853 \r\nQ 2591 2978 2328 3040 \r\nQ 2066 3103 1784 3103 \r\nQ 1356 3103 1142 2972 \r\nQ 928 2841 928 2578 \r\nQ 928 2378 1081 2264 \r\nQ 1234 2150 1697 2047 \r\nL 1894 2003 \r\nQ 2506 1872 2764 1633 \r\nQ 3022 1394 3022 966 \r\nQ 3022 478 2636 193 \r\nQ 2250 -91 1575 -91 \r\nQ 1294 -91 989 -36 \r\nQ 684 19 347 128 \r\nL 347 722 \r\nQ 666 556 975 473 \r\nQ 1284 391 1588 391 \r\nQ 1994 391 2212 530 \r\nQ 2431 669 2431 922 \r\nQ 2431 1156 2273 1281 \r\nQ 2116 1406 1581 1522 \r\nL 1381 1569 \r\nQ 847 1681 609 1914 \r\nQ 372 2147 372 2553 \r\nQ 372 3047 722 3315 \r\nQ 1072 3584 1716 3584 \r\nQ 2034 3584 2315 3537 \r\nQ 2597 3491 2834 3397 \r\nz\r\n\" id=\"DejaVuSans-73\" transform=\"scale(0.015625)\"/>\r\n       <path d=\"M 513 4856 \r\nL 1013 4856 \r\nQ 1481 4119 1714 3412 \r\nQ 1947 2706 1947 2009 \r\nQ 1947 1309 1714 600 \r\nQ 1481 -109 1013 -844 \r\nL 513 -844 \r\nQ 928 -128 1133 580 \r\nQ 1338 1288 1338 2009 \r\nQ 1338 2731 1133 3434 \r\nQ 928 4138 513 4856 \r\nz\r\n\" id=\"DejaVuSans-29\" transform=\"scale(0.015625)\"/>\r\n      </defs>\r\n      <use xlink:href=\"#DejaVuSans-50\"/>\r\n      <use x=\"58.552734\" xlink:href=\"#DejaVuSans-72\"/>\r\n      <use x=\"97.416016\" xlink:href=\"#DejaVuSans-65\"/>\r\n      <use x=\"158.939453\" xlink:href=\"#DejaVuSans-63\"/>\r\n      <use x=\"213.919922\" xlink:href=\"#DejaVuSans-69\"/>\r\n      <use x=\"241.703125\" xlink:href=\"#DejaVuSans-70\"/>\r\n      <use x=\"305.179688\" xlink:href=\"#DejaVuSans-69\"/>\r\n      <use x=\"332.962891\" xlink:href=\"#DejaVuSans-74\"/>\r\n      <use x=\"372.171875\" xlink:href=\"#DejaVuSans-61\"/>\r\n      <use x=\"433.451172\" xlink:href=\"#DejaVuSans-74\"/>\r\n      <use x=\"472.660156\" xlink:href=\"#DejaVuSans-69\"/>\r\n      <use x=\"500.443359\" xlink:href=\"#DejaVuSans-6f\"/>\r\n      <use x=\"561.625\" xlink:href=\"#DejaVuSans-6e\"/>\r\n      <use x=\"625.003906\" xlink:href=\"#DejaVuSans-20\"/>\r\n      <use x=\"656.791016\" xlink:href=\"#DejaVuSans-28\"/>\r\n      <use x=\"695.804688\" xlink:href=\"#DejaVuSans-69\"/>\r\n      <use x=\"723.587891\" xlink:href=\"#DejaVuSans-6e\"/>\r\n      <use x=\"786.966797\" xlink:href=\"#DejaVuSans-63\"/>\r\n      <use x=\"841.947266\" xlink:href=\"#DejaVuSans-68\"/>\r\n      <use x=\"905.326172\" xlink:href=\"#DejaVuSans-65\"/>\r\n      <use x=\"966.849609\" xlink:href=\"#DejaVuSans-73\"/>\r\n      <use x=\"1018.949219\" xlink:href=\"#DejaVuSans-29\"/>\r\n     </g>\r\n    </g>\r\n   </g>\r\n   <g id=\"line2d_27\">\r\n    <path clip-path=\"url(#p8b31795433)\" d=\"M 79.728568 362.532995 \r\nL 80.086234 358.734678 \r\nL 80.443899 358.734678 \r\nL 80.801565 362.532995 \r\nL 81.15923 362.532995 \r\nL 81.516896 362.058206 \r\nL 81.874561 362.532995 \r\nL 82.232227 362.532995 \r\nL 82.589892 356.36073 \r\nL 82.947558 362.532995 \r\nL 83.662889 362.532995 \r\nL 84.020554 361.108626 \r\nL 85.09355 360.159047 \r\nL 85.451216 362.532995 \r\nL 85.808881 361.108626 \r\nL 86.166547 362.532995 \r\nL 86.524212 360.159047 \r\nL 86.881878 362.532995 \r\nL 87.239543 361.583416 \r\nL 87.597209 299.860757 \r\nL 87.954874 342.591829 \r\nL 88.31254 359.684257 \r\nL 88.670205 360.159047 \r\nL 89.027871 362.532995 \r\nL 90.100867 362.532995 \r\nL 90.458533 361.583416 \r\nL 90.816198 362.532995 \r\nL 91.531529 362.532995 \r\nL 91.889195 359.684257 \r\nL 92.24686 361.583416 \r\nL 92.604526 362.532995 \r\nL 99.042504 362.532995 \r\nL 99.40017 362.058206 \r\nL 99.757835 362.532995 \r\nL 100.473166 362.532995 \r\nL 100.830832 360.159047 \r\nL 101.188497 355.41115 \r\nL 101.546163 362.058206 \r\nL 101.903828 362.532995 \r\nL 102.261494 361.108626 \r\nL 102.619159 362.532995 \r\nL 103.692156 362.532995 \r\nL 104.049821 351.138043 \r\nL 104.407487 361.108626 \r\nL 104.765152 362.532995 \r\nL 106.911145 362.532995 \r\nL 107.26881 359.209468 \r\nL 107.626476 362.532995 \r\nL 110.845465 362.532995 \r\nL 111.203131 361.108626 \r\nL 111.560796 360.159047 \r\nL 111.918462 362.058206 \r\nL 112.276127 356.36073 \r\nL 112.633793 355.88594 \r\nL 112.991458 360.159047 \r\nL 113.706789 360.159047 \r\nL 114.064455 362.532995 \r\nL 114.42212 362.058206 \r\nL 114.779786 362.532995 \r\nL 115.137451 355.88594 \r\nL 115.495117 356.835519 \r\nL 115.852782 361.108626 \r\nL 116.210448 362.532995 \r\nL 116.568113 361.108626 \r\nL 116.925779 342.117039 \r\nL 117.283444 361.583416 \r\nL 117.641109 362.532995 \r\nL 117.998775 361.108626 \r\nL 118.35644 337.843932 \r\nL 118.714106 360.159047 \r\nL 119.071771 360.633837 \r\nL 119.429437 362.058206 \r\nL 119.787102 360.159047 \r\nL 120.144768 361.108626 \r\nL 120.502433 362.532995 \r\nL 120.860099 362.532995 \r\nL 121.217764 362.058206 \r\nL 121.57543 356.36073 \r\nL 121.933095 362.058206 \r\nL 122.290761 362.532995 \r\nL 122.648426 362.532995 \r\nL 123.006092 362.058206 \r\nL 123.721423 362.058206 \r\nL 124.079088 362.532995 \r\nL 124.436754 361.583416 \r\nL 124.794419 362.532995 \r\nL 125.50975 360.633837 \r\nL 125.867416 356.835519 \r\nL 126.225081 362.058206 \r\nL 126.582747 362.532995 \r\nL 133.736056 362.532995 \r\nL 134.093722 354.93636 \r\nL 134.451387 362.532995 \r\nL 134.809053 360.633837 \r\nL 135.166718 361.108626 \r\nL 135.524384 362.532995 \r\nL 136.239715 362.532995 \r\nL 136.59738 353.986781 \r\nL 136.955046 362.532995 \r\nL 139.458704 362.532995 \r\nL 139.816369 338.318721 \r\nL 140.174035 362.532995 \r\nL 140.889366 362.532995 \r\nL 141.247031 347.814515 \r\nL 141.604697 238.138097 \r\nL 141.962362 362.058206 \r\nL 142.320028 362.532995 \r\nL 142.677693 362.532995 \r\nL 143.035359 359.209468 \r\nL 143.393024 362.532995 \r\nL 144.466021 362.532995 \r\nL 144.823686 359.684257 \r\nL 145.181352 359.684257 \r\nL 145.539017 362.058206 \r\nL 145.896683 362.532995 \r\nL 146.254348 361.108626 \r\nL 146.612014 362.532995 \r\nL 147.327345 362.532995 \r\nL 147.68501 306.033023 \r\nL 148.042676 327.873348 \r\nL 148.400341 340.21788 \r\nL 148.758007 362.532995 \r\nL 149.115672 345.915356 \r\nL 149.473338 362.532995 \r\nL 155.553651 362.532995 \r\nL 155.911316 361.583416 \r\nL 156.268982 362.532995 \r\nL 163.064626 362.532995 \r\nL 163.422291 350.188464 \r\nL 163.779957 362.058206 \r\nL 164.137622 362.532995 \r\nL 164.495288 361.583416 \r\nL 164.852953 362.532995 \r\nL 165.210619 361.583416 \r\nL 165.568284 360.159047 \r\nL 165.92595 351.612833 \r\nL 166.283615 347.339725 \r\nL 166.641281 361.108626 \r\nL 166.998946 362.532995 \r\nL 168.429608 362.532995 \r\nL 168.787274 356.835519 \r\nL 169.144939 320.276713 \r\nL 169.502605 350.188464 \r\nL 169.86027 362.532995 \r\nL 172.363929 362.532995 \r\nL 172.721594 362.058206 \r\nL 173.079259 362.532995 \r\nL 173.79459 362.532995 \r\nL 174.152256 360.159047 \r\nL 174.509921 362.058206 \r\nL 174.867587 362.532995 \r\nL 175.225252 362.058206 \r\nL 175.582918 362.532995 \r\nL 176.655914 362.532995 \r\nL 177.01358 358.734678 \r\nL 177.371245 356.36073 \r\nL 177.728911 355.41115 \r\nL 178.086576 362.058206 \r\nL 178.444242 361.583416 \r\nL 178.801907 362.532995 \r\nL 179.159573 350.188464 \r\nL 179.517238 361.583416 \r\nL 179.874904 362.532995 \r\nL 180.232569 362.532995 \r\nL 180.590235 361.583416 \r\nL 180.9479 362.532995 \r\nL 182.736228 362.532995 \r\nL 183.451559 358.734678 \r\nL 183.809224 361.583416 \r\nL 184.166889 362.532995 \r\nL 185.597551 362.532995 \r\nL 185.955217 360.159047 \r\nL 186.312882 362.532995 \r\nL 186.670548 361.583416 \r\nL 187.028213 362.532995 \r\nL 187.743544 362.532995 \r\nL 188.10121 359.684257 \r\nL 188.458875 362.532995 \r\nL 189.889537 362.532995 \r\nL 190.247203 358.734678 \r\nL 190.604868 361.583416 \r\nL 190.962534 361.583416 \r\nL 191.320199 360.633837 \r\nL 191.677865 360.633837 \r\nL 192.03553 362.532995 \r\nL 194.539189 362.532995 \r\nL 194.896854 359.209468 \r\nL 195.254519 361.583416 \r\nL 195.612185 362.532995 \r\nL 195.96985 361.583416 \r\nL 196.327516 361.108626 \r\nL 196.685181 360.159047 \r\nL 197.042847 361.108626 \r\nL 197.400512 362.532995 \r\nL 197.758178 361.108626 \r\nL 198.115843 362.532995 \r\nL 198.473509 360.159047 \r\nL 198.831174 362.532995 \r\nL 200.977167 362.532995 \r\nL 201.334833 361.583416 \r\nL 201.692498 362.532995 \r\nL 202.050164 362.532995 \r\nL 202.407829 361.583416 \r\nL 202.765495 362.532995 \r\nL 205.984484 362.532995 \r\nL 206.342149 361.583416 \r\nL 206.699815 362.532995 \r\nL 208.488142 362.532995 \r\nL 208.845808 355.41115 \r\nL 209.203473 260.453213 \r\nL 209.561139 358.734678 \r\nL 209.918804 361.108626 \r\nL 210.27647 353.986781 \r\nL 210.634135 355.88594 \r\nL 210.991801 354.461571 \r\nL 211.349466 362.532995 \r\nL 211.707132 357.785099 \r\nL 212.064797 362.532995 \r\nL 212.422463 361.583416 \r\nL 212.780128 359.209468 \r\nL 213.137794 361.108626 \r\nL 213.495459 357.310309 \r\nL 213.853125 360.159047 \r\nL 214.21079 357.785099 \r\nL 214.568456 352.087622 \r\nL 214.926121 362.058206 \r\nL 215.283787 362.058206 \r\nL 215.641452 353.986781 \r\nL 215.999118 360.633837 \r\nL 216.356783 344.965777 \r\nL 216.714449 319.801924 \r\nL 217.072114 356.835519 \r\nL 217.429779 362.058206 \r\nL 217.787445 360.633837 \r\nL 218.14511 362.532995 \r\nL 218.502776 362.058206 \r\nL 218.860441 358.259888 \r\nL 219.218107 359.684257 \r\nL 219.575772 358.259888 \r\nL 219.933438 355.41115 \r\nL 220.291103 362.532995 \r\nL 220.648769 361.583416 \r\nL 221.006434 359.684257 \r\nL 221.3641 356.835519 \r\nL 221.721765 358.734678 \r\nL 222.079431 339.268301 \r\nL 222.794762 355.88594 \r\nL 223.152427 361.583416 \r\nL 223.510093 360.633837 \r\nL 223.867758 362.532995 \r\nL 224.225424 362.532995 \r\nL 224.583089 360.159047 \r\nL 224.940755 362.532995 \r\nL 226.013751 362.532995 \r\nL 226.371417 361.583416 \r\nL 226.729082 361.108626 \r\nL 227.086748 362.532995 \r\nL 228.159744 362.532995 \r\nL 228.517409 361.108626 \r\nL 228.875075 360.159047 \r\nL 229.23274 359.684257 \r\nL 229.590406 362.532995 \r\nL 229.948071 355.41115 \r\nL 230.305737 357.785099 \r\nL 230.663402 362.058206 \r\nL 231.021068 362.532995 \r\nL 231.378733 360.633837 \r\nL 231.736399 359.684257 \r\nL 232.094064 357.310309 \r\nL 232.45173 361.583416 \r\nL 232.809395 361.583416 \r\nL 233.167061 357.785099 \r\nL 233.524726 361.108626 \r\nL 233.882392 362.058206 \r\nL 234.240057 362.532995 \r\nL 234.955388 362.532995 \r\nL 235.313054 361.583416 \r\nL 235.670719 361.583416 \r\nL 236.028385 362.532995 \r\nL 236.38605 355.88594 \r\nL 236.743716 358.734678 \r\nL 237.101381 362.532995 \r\nL 238.174378 362.532995 \r\nL 238.532043 359.684257 \r\nL 238.889709 362.532995 \r\nL 239.247374 355.88594 \r\nL 239.605039 361.108626 \r\nL 239.962705 362.058206 \r\nL 240.32037 357.310309 \r\nL 240.678036 357.310309 \r\nL 241.035701 361.583416 \r\nL 241.393367 343.066618 \r\nL 241.751032 361.108626 \r\nL 242.108698 353.037202 \r\nL 242.466363 360.159047 \r\nL 242.824029 360.159047 \r\nL 243.181694 359.684257 \r\nL 243.53936 361.583416 \r\nL 243.897025 360.633837 \r\nL 244.254691 360.159047 \r\nL 244.612356 346.864936 \r\nL 244.970022 348.289305 \r\nL 245.327687 360.633837 \r\nL 245.685353 357.785099 \r\nL 246.043018 346.390146 \r\nL 246.400684 361.583416 \r\nL 246.758349 354.461571 \r\nL 247.116015 361.108626 \r\nL 247.47368 346.390146 \r\nL 247.831346 361.583416 \r\nL 248.189011 361.583416 \r\nL 248.546677 362.058206 \r\nL 248.904342 357.785099 \r\nL 249.262008 360.159047 \r\nL 249.619673 361.583416 \r\nL 249.977339 362.058206 \r\nL 250.335004 357.310309 \r\nL 250.692669 348.764095 \r\nL 251.050335 352.562412 \r\nL 251.408 361.583416 \r\nL 251.765666 361.108626 \r\nL 252.123331 354.461571 \r\nL 252.480997 357.785099 \r\nL 252.838662 355.88594 \r\nL 253.196328 361.108626 \r\nL 253.553993 350.188464 \r\nL 253.911659 361.108626 \r\nL 254.269324 358.259888 \r\nL 254.62699 353.986781 \r\nL 254.984655 352.562412 \r\nL 255.342321 333.096035 \r\nL 256.057652 362.532995 \r\nL 257.488314 362.532995 \r\nL 257.845979 359.684257 \r\nL 258.203645 362.532995 \r\nL 262.49563 362.532995 \r\nL 262.853296 360.633837 \r\nL 263.210961 362.058206 \r\nL 263.926292 355.41115 \r\nL 264.283958 356.835519 \r\nL 264.641623 362.532995 \r\nL 264.999289 362.532995 \r\nL 265.356954 355.88594 \r\nL 265.71462 362.532995 \r\nL 268.218278 362.532995 \r\nL 268.575944 354.93636 \r\nL 268.933609 311.255709 \r\nL 269.291275 311.255709 \r\nL 269.64894 361.583416 \r\nL 270.006606 362.532995 \r\nL 270.364271 315.054027 \r\nL 270.721937 311.730499 \r\nL 271.079602 224.843986 \r\nL 271.437268 362.532995 \r\nL 272.152599 362.532995 \r\nL 272.510264 324.54982 \r\nL 272.867929 362.532995 \r\nL 273.940926 362.532995 \r\nL 274.298591 359.684257 \r\nL 274.656257 362.532995 \r\nL 276.086919 362.532995 \r\nL 276.444584 354.93636 \r\nL 276.80225 258.079264 \r\nL 277.875246 362.532995 \r\nL 278.232912 357.785099 \r\nL 278.590577 338.318721 \r\nL 278.948243 362.532995 \r\nL 279.305908 362.532995 \r\nL 279.663574 324.54982 \r\nL 280.021239 356.36073 \r\nL 280.378905 361.108626 \r\nL 280.73657 362.532995 \r\nL 282.167232 362.532995 \r\nL 282.524898 353.511991 \r\nL 282.882563 362.532995 \r\nL 284.67089 362.532995 \r\nL 285.028556 334.045614 \r\nL 285.386221 356.36073 \r\nL 285.743887 362.532995 \r\nL 286.101552 362.532995 \r\nL 286.459218 361.108626 \r\nL 286.816883 362.532995 \r\nL 287.174549 358.734678 \r\nL 287.532214 362.532995 \r\nL 288.247545 362.532995 \r\nL 288.605211 358.734678 \r\nL 288.962876 360.633837 \r\nL 289.320542 360.633837 \r\nL 289.678207 362.532995 \r\nL 290.751204 362.532995 \r\nL 291.108869 362.058206 \r\nL 291.466535 361.108626 \r\nL 291.8242 361.108626 \r\nL 292.181866 349.713674 \r\nL 292.539531 329.772507 \r\nL 292.897197 341.167459 \r\nL 293.254862 339.268301 \r\nL 293.612528 343.066618 \r\nL 293.970193 358.734678 \r\nL 294.327859 361.583416 \r\nL 294.685524 346.864936 \r\nL 295.043189 307.457392 \r\nL 295.400855 314.579237 \r\nL 295.75852 361.583416 \r\nL 296.116186 362.532995 \r\nL 296.831517 362.532995 \r\nL 297.189182 357.785099 \r\nL 297.546848 239.087677 \r\nL 297.904513 345.915356 \r\nL 298.262179 305.083443 \r\nL 298.619844 359.209468 \r\nL 298.97751 361.108626 \r\nL 299.335175 362.058206 \r\nL 299.692841 362.532995 \r\nL 300.408172 362.532995 \r\nL 300.765837 359.209468 \r\nL 301.123503 352.087622 \r\nL 301.481168 285.617066 \r\nL 301.838834 360.159047 \r\nL 302.196499 361.108626 \r\nL 302.554165 360.633837 \r\nL 302.91183 361.583416 \r\nL 303.627161 358.734678 \r\nL 303.984827 361.108626 \r\nL 304.342492 361.583416 \r\nL 304.700158 358.259888 \r\nL 305.057823 361.583416 \r\nL 305.415489 362.532995 \r\nL 306.130819 362.532995 \r\nL 306.488485 361.583416 \r\nL 306.84615 334.995194 \r\nL 307.203816 344.965777 \r\nL 307.561481 361.583416 \r\nL 307.919147 362.532995 \r\nL 308.276812 348.764095 \r\nL 308.634478 361.583416 \r\nL 308.992143 353.037202 \r\nL 309.707474 361.108626 \r\nL 310.06514 357.785099 \r\nL 310.422805 353.037202 \r\nL 310.780471 355.41115 \r\nL 311.138136 362.532995 \r\nL 311.853467 362.532995 \r\nL 312.211133 361.583416 \r\nL 312.568798 361.583416 \r\nL 312.926464 352.562412 \r\nL 313.284129 351.138043 \r\nL 313.641795 353.511991 \r\nL 313.99946 345.440567 \r\nL 314.714791 354.461571 \r\nL 315.072457 361.583416 \r\nL 315.430122 345.915356 \r\nL 315.787788 350.663253 \r\nL 316.145453 360.159047 \r\nL 316.503119 360.159047 \r\nL 316.860784 361.583416 \r\nL 317.218449 357.785099 \r\nL 317.576115 362.532995 \r\nL 317.93378 362.532995 \r\nL 318.291446 358.734678 \r\nL 318.649111 361.583416 \r\nL 319.006777 362.532995 \r\nL 319.364442 362.058206 \r\nL 319.722108 361.108626 \r\nL 320.079773 360.633837 \r\nL 320.437439 359.684257 \r\nL 320.795104 360.159047 \r\nL 321.15277 356.36073 \r\nL 321.510435 361.108626 \r\nL 321.868101 362.532995 \r\nL 322.225766 362.532995 \r\nL 322.583432 361.583416 \r\nL 322.941097 361.583416 \r\nL 323.298763 358.259888 \r\nL 323.656428 362.532995 \r\nL 324.014094 362.058206 \r\nL 324.371759 362.058206 \r\nL 324.729425 346.864936 \r\nL 325.08709 360.159047 \r\nL 325.444756 361.108626 \r\nL 326.160087 356.835519 \r\nL 326.517752 361.108626 \r\nL 326.875418 362.532995 \r\nL 327.233083 356.835519 \r\nL 327.590749 362.532995 \r\nL 327.948414 359.209468 \r\nL 328.306079 359.684257 \r\nL 328.663745 334.995194 \r\nL 329.02141 361.108626 \r\nL 329.379076 359.684257 \r\nL 329.736741 362.532995 \r\nL 330.094407 356.36073 \r\nL 330.809738 362.532995 \r\nL 331.167403 362.532995 \r\nL 331.525069 360.159047 \r\nL 331.882734 254.280947 \r\nL 332.2404 362.532995 \r\nL 332.598065 361.583416 \r\nL 332.955731 361.583416 \r\nL 333.313396 355.88594 \r\nL 333.671062 360.633837 \r\nL 334.386393 362.532995 \r\nL 334.744058 353.511991 \r\nL 335.459389 360.633837 \r\nL 335.817055 351.612833 \r\nL 336.17472 362.058206 \r\nL 336.532386 348.764095 \r\nL 337.247717 347.339725 \r\nL 337.605382 275.171693 \r\nL 337.963048 359.209468 \r\nL 338.320713 359.209468 \r\nL 339.036044 350.663253 \r\nL 339.39371 361.583416 \r\nL 339.751375 354.461571 \r\nL 340.10904 355.41115 \r\nL 340.466706 362.532995 \r\nL 340.824371 362.532995 \r\nL 341.182037 361.583416 \r\nL 341.539702 362.532995 \r\nL 341.897368 362.532995 \r\nL 342.255033 353.037202 \r\nL 342.612699 359.684257 \r\nL 342.970364 358.734678 \r\nL 343.32803 361.108626 \r\nL 343.685695 361.108626 \r\nL 344.043361 362.532995 \r\nL 345.116357 362.532995 \r\nL 345.831688 360.633837 \r\nL 346.189354 362.532995 \r\nL 346.547019 361.583416 \r\nL 346.904685 362.532995 \r\nL 347.26235 361.583416 \r\nL 347.977681 361.108626 \r\nL 348.335347 362.532995 \r\nL 348.693012 362.058206 \r\nL 349.050678 361.108626 \r\nL 350.123674 362.532995 \r\nL 350.48134 353.037202 \r\nL 350.839005 359.209468 \r\nL 351.19667 350.188464 \r\nL 351.912001 362.532995 \r\nL 354.057994 362.532995 \r\nL 354.41566 356.36073 \r\nL 354.773325 361.583416 \r\nL 355.130991 354.461571 \r\nL 355.488656 362.532995 \r\nL 356.561653 362.532995 \r\nL 356.919318 360.159047 \r\nL 357.276984 362.532995 \r\nL 357.634649 353.986781 \r\nL 357.992315 362.532995 \r\nL 359.065311 361.583416 \r\nL 359.422977 361.108626 \r\nL 359.780642 362.532995 \r\nL 360.138308 360.633837 \r\nL 360.495973 361.108626 \r\nL 360.853639 359.209468 \r\nL 361.211304 343.541408 \r\nL 361.56897 350.188464 \r\nL 361.926635 362.532995 \r\nL 362.2843 353.037202 \r\nL 362.999631 361.583416 \r\nL 363.357297 350.188464 \r\nL 363.714962 362.532995 \r\nL 364.430293 346.390146 \r\nL 364.787959 356.835519 \r\nL 365.145624 359.209468 \r\nL 365.50329 362.532995 \r\nL 365.860955 362.532995 \r\nL 366.218621 360.633837 \r\nL 366.576286 362.532995 \r\nL 366.933952 362.532995 \r\nL 367.291617 358.259888 \r\nL 367.649283 360.159047 \r\nL 368.006948 361.108626 \r\nL 368.364614 356.36073 \r\nL 369.079945 361.583416 \r\nL 369.43761 362.058206 \r\nL 369.795276 335.944773 \r\nL 370.152941 348.764095 \r\nL 370.510607 345.440567 \r\nL 370.868272 362.532995 \r\nL 371.225938 362.058206 \r\nL 371.583603 362.532995 \r\nL 372.298934 362.532995 \r\nL 372.6566 334.520404 \r\nL 373.014265 362.532995 \r\nL 373.37193 361.108626 \r\nL 373.729596 362.532995 \r\nL 376.948585 362.532995 \r\nL 377.306251 361.583416 \r\nL 378.379247 362.058206 \r\nL 378.736913 362.532995 \r\nL 380.882906 362.532995 \r\nL 381.598237 360.633837 \r\nL 381.955902 319.801924 \r\nL 382.313568 362.532995 \r\nL 383.028899 362.532995 \r\nL 383.386564 249.05826 \r\nL 383.74423 271.848165 \r\nL 384.101895 362.532995 \r\nL 384.817226 362.532995 \r\nL 385.174891 333.096035 \r\nL 385.532557 359.684257 \r\nL 386.247888 362.532995 \r\nL 386.605553 357.310309 \r\nL 386.963219 362.532995 \r\nL 388.036215 362.532995 \r\nL 388.393881 360.633837 \r\nL 388.751546 309.35655 \r\nL 389.824543 362.532995 \r\nL 390.182208 362.532995 \r\nL 390.539874 338.793511 \r\nL 390.897539 356.36073 \r\nL 391.61287 362.532995 \r\nL 391.970536 362.532995 \r\nL 392.685867 359.684257 \r\nL 393.043532 362.532995 \r\nL 394.474194 362.532995 \r\nL 394.83186 355.41115 \r\nL 395.54719 362.532995 \r\nL 395.904856 361.108626 \r\nL 396.262521 361.108626 \r\nL 396.620187 362.532995 \r\nL 397.335518 362.532995 \r\nL 397.693183 358.259888 \r\nL 398.050849 362.532995 \r\nL 398.408514 359.209468 \r\nL 398.76618 362.532995 \r\nL 399.839176 362.532995 \r\nL 400.554507 348.764095 \r\nL 400.912173 362.532995 \r\nL 401.269838 348.764095 \r\nL 401.985169 356.835519 \r\nL 402.342835 362.532995 \r\nL 402.7005 362.532995 \r\nL 403.058166 312.680078 \r\nL 404.131162 362.532995 \r\nL 404.488828 355.88594 \r\nL 404.846493 361.583416 \r\nL 405.204159 358.259888 \r\nL 405.561824 317.427975 \r\nL 405.91949 306.982602 \r\nL 406.277155 361.108626 \r\nL 406.63482 362.058206 \r\nL 406.992486 362.058206 \r\nL 407.350151 358.734678 \r\nL 407.707817 349.238884 \r\nL 408.065482 359.684257 \r\nL 408.423148 317.427975 \r\nL 409.138479 362.532995 \r\nL 410.211475 360.159047 \r\nL 410.569141 362.532995 \r\nL 410.926806 354.93636 \r\nL 411.284472 362.058206 \r\nL 411.642137 362.058206 \r\nL 412.357468 357.310309 \r\nL 412.715134 357.785099 \r\nL 413.072799 359.209468 \r\nL 413.430465 362.532995 \r\nL 413.78813 362.532995 \r\nL 414.145796 361.583416 \r\nL 414.503461 362.532995 \r\nL 414.861127 360.633837 \r\nL 415.218792 362.532995 \r\nL 415.576458 362.532995 \r\nL 415.934123 355.41115 \r\nL 416.291789 354.93636 \r\nL 416.649454 360.159047 \r\nL 417.00712 361.583416 \r\nL 417.364785 362.532995 \r\nL 417.72245 362.532995 \r\nL 418.080116 362.058206 \r\nL 418.437781 362.532995 \r\nL 418.795447 337.369142 \r\nL 419.153112 355.88594 \r\nL 419.510778 345.915356 \r\nL 419.868443 357.785099 \r\nL 420.583774 348.289305 \r\nL 420.94144 361.583416 \r\nL 421.299105 361.583416 \r\nL 421.656771 353.986781 \r\nL 422.014436 353.511991 \r\nL 422.372102 354.461571 \r\nL 423.802764 362.532995 \r\nL 425.233426 359.684257 \r\nL 425.591091 362.532995 \r\nL 426.306422 362.532995 \r\nL 426.664088 361.583416 \r\nL 427.021753 348.289305 \r\nL 427.379419 362.532995 \r\nL 427.737084 362.058206 \r\nL 428.09475 356.835519 \r\nL 428.452415 354.93636 \r\nL 428.81008 362.532995 \r\nL 429.167746 358.259888 \r\nL 429.525411 362.532995 \r\nL 429.883077 362.532995 \r\nL 430.240742 356.835519 \r\nL 430.598408 359.209468 \r\nL 430.956073 306.033023 \r\nL 431.313739 356.835519 \r\nL 431.671404 361.583416 \r\nL 432.02907 362.532995 \r\nL 432.386735 355.88594 \r\nL 432.744401 361.583416 \r\nL 433.459732 356.835519 \r\nL 433.817397 360.159047 \r\nL 434.175063 362.058206 \r\nL 434.532728 360.633837 \r\nL 434.890394 362.532995 \r\nL 435.248059 362.532995 \r\nL 435.605725 357.785099 \r\nL 435.96339 362.532995 \r\nL 436.678721 362.532995 \r\nL 437.394052 362.058206 \r\nL 437.751718 362.532995 \r\nL 439.18238 362.532995 \r\nL 439.89771 361.583416 \r\nL 440.255376 362.532995 \r\nL 441.328372 362.532995 \r\nL 441.686038 360.633837 \r\nL 442.401369 361.583416 \r\nL 445.978024 362.532995 \r\nL 446.693355 362.532995 \r\nL 447.05102 359.684257 \r\nL 447.408686 362.532995 \r\nL 448.124017 362.532995 \r\nL 448.481682 360.633837 \r\nL 450.27001 359.209468 \r\nL 453.846664 343.541408 \r\nL 454.20433 353.037202 \r\nL 456.350323 362.532995 \r\nL 456.707988 361.583416 \r\nL 462.430636 349.713674 \r\nL 463.145967 361.583416 \r\nL 465.649625 359.684257 \r\nL 469.583946 362.532995 \r\nL 472.44527 362.532995 \r\nL 472.802935 360.159047 \r\nL 473.1606 362.532995 \r\nL 477.810252 362.532995 \r\nL 478.525583 354.461571 \r\nL 478.883248 362.532995 \r\nL 479.240914 362.532995 \r\nL 480.31391 248.58347 \r\nL 480.671576 341.642249 \r\nL 481.029241 355.88594 \r\nL 482.459903 362.532995 \r\nL 482.817569 362.532995 \r\nL 483.5329 359.684257 \r\nL 483.890565 362.532995 \r\nL 499.270181 362.532995 \r\nL 499.627846 356.835519 \r\nL 502.846836 362.532995 \r\nL 504.277498 362.532995 \r\nL 505.350494 362.058206 \r\nL 506.065825 361.583416 \r\nL 506.42349 304.608654 \r\nL 506.781156 352.562412 \r\nL 507.138821 362.532995 \r\nL 507.496487 362.532995 \r\nL 507.854152 355.88594 \r\nL 508.211818 362.532995 \r\nL 508.569483 362.532995 \r\nL 508.927149 350.663253 \r\nL 509.64248 358.734678 \r\nL 510.000145 327.398559 \r\nL 510.357811 361.583416 \r\nL 510.715476 361.108626 \r\nL 511.073142 357.310309 \r\nL 511.430807 362.058206 \r\nL 511.788473 351.612833 \r\nL 512.146138 355.88594 \r\nL 512.503804 356.835519 \r\nL 512.861469 355.41115 \r\nL 513.219135 340.69267 \r\nL 513.5768 306.033023 \r\nL 513.934466 354.461571 \r\nL 514.292131 362.058206 \r\nL 514.649797 362.532995 \r\nL 515.007462 360.633837 \r\nL 515.365128 360.159047 \r\nL 515.722793 360.633837 \r\nL 516.080459 362.532995 \r\nL 516.438124 362.058206 \r\nL 516.79579 362.532995 \r\nL 517.51112 362.532995 \r\nL 517.868786 346.390146 \r\nL 518.226451 360.159047 \r\nL 518.584117 362.532995 \r\nL 518.941782 353.986781 \r\nL 519.299448 355.41115 \r\nL 520.014779 362.532995 \r\nL 525.022096 362.532995 \r\nL 525.379761 356.835519 \r\nL 525.737427 361.583416 \r\nL 526.095092 362.532995 \r\nL 527.525754 362.532995 \r\nL 527.88342 356.835519 \r\nL 528.241085 361.583416 \r\nL 528.59875 358.734678 \r\nL 528.956416 359.684257 \r\nL 529.314081 362.058206 \r\nL 529.671747 362.532995 \r\nL 530.029412 356.36073 \r\nL 530.387078 362.058206 \r\nL 530.744743 362.532995 \r\nL 531.460074 362.532995 \r\nL 531.81774 361.583416 \r\nL 532.175405 362.532995 \r\nL 532.533071 362.532995 \r\nL 532.890736 355.41115 \r\nL 533.248402 362.532995 \r\nL 535.394395 362.532995 \r\nL 535.75206 359.209468 \r\nL 536.109726 362.532995 \r\nL 536.467391 361.583416 \r\nL 536.825057 356.36073 \r\nL 537.182722 343.541408 \r\nL 537.540388 359.209468 \r\nL 537.898053 347.814515 \r\nL 538.255719 361.108626 \r\nL 538.613384 352.562412 \r\nL 539.328715 361.108626 \r\nL 539.68638 362.532995 \r\nL 540.044046 362.532995 \r\nL 540.401711 359.684257 \r\nL 540.759377 362.532995 \r\nL 541.117042 354.93636 \r\nL 541.474708 362.058206 \r\nL 541.832373 361.583416 \r\nL 542.190039 347.339725 \r\nL 542.547704 341.167459 \r\nL 542.90537 362.532995 \r\nL 543.263035 359.209468 \r\nL 543.620701 362.058206 \r\nL 544.336032 359.684257 \r\nL 544.693697 362.532995 \r\nL 545.051363 355.41115 \r\nL 545.409028 360.159047 \r\nL 545.766694 362.532995 \r\nL 546.124359 362.532995 \r\nL 546.482025 354.93636 \r\nL 546.83969 349.713674 \r\nL 547.197356 361.583416 \r\nL 547.555021 362.058206 \r\nL 547.912687 359.684257 \r\nL 548.270352 355.88594 \r\nL 548.628018 361.583416 \r\nL 548.985683 359.684257 \r\nL 549.343349 362.532995 \r\nL 549.701014 359.684257 \r\nL 550.05868 362.532995 \r\nL 550.416345 359.684257 \r\nL 550.77401 360.159047 \r\nL 551.131676 359.209468 \r\nL 552.204672 353.986781 \r\nL 552.562338 342.591829 \r\nL 552.920003 362.058206 \r\nL 553.277669 362.532995 \r\nL 556.496658 362.532995 \r\nL 556.854324 357.310309 \r\nL 557.211989 360.633837 \r\nL 557.569655 362.532995 \r\nL 557.92732 358.734678 \r\nL 558.284986 362.532995 \r\nL 562.219306 362.532995 \r\nL 562.576971 277.070852 \r\nL 562.934637 362.532995 \r\nL 563.649968 362.532995 \r\nL 564.007633 123.238993 \r\nL 564.365299 359.209468 \r\nL 564.722964 362.532995 \r\nL 565.438295 330.722086 \r\nL 565.795961 359.684257 \r\nL 566.153626 362.058206 \r\nL 566.868957 356.36073 \r\nL 567.226623 362.532995 \r\nL 568.657285 362.532995 \r\nL 569.01495 334.520404 \r\nL 569.372616 292.264122 \r\nL 569.730281 350.663253 \r\nL 570.087947 362.532995 \r\nL 573.306936 362.532995 \r\nL 573.664601 345.915356 \r\nL 574.022267 362.532995 \r\nL 575.452929 362.532995 \r\nL 575.810594 361.583416 \r\nL 576.16826 359.209468 \r\nL 576.525925 342.117039 \r\nL 576.883591 362.532995 \r\nL 577.598922 362.532995 \r\nL 577.956587 358.734678 \r\nL 578.314253 362.532995 \r\nL 582.963904 362.532995 \r\nL 583.32157 345.440567 \r\nL 583.679235 362.532995 \r\nL 584.0369 362.532995 \r\nL 584.394566 348.289305 \r\nL 585.109897 362.532995 \r\nL 585.467562 345.915356 \r\nL 585.825228 250.482629 \r\nL 586.540559 362.532995 \r\nL 586.898224 362.058206 \r\nL 587.25589 362.532995 \r\nL 587.613555 362.532995 \r\nL 587.971221 65.789441 \r\nL 588.328886 300.335546 \r\nL 588.686552 359.209468 \r\nL 589.044217 362.532995 \r\nL 591.19021 362.532995 \r\nL 591.547876 330.247297 \r\nL 591.905541 359.684257 \r\nL 592.263207 362.532995 \r\nL 593.336203 362.532995 \r\nL 593.693869 359.684257 \r\nL 594.051534 362.532995 \r\nL 594.4092 362.532995 \r\nL 594.766865 340.69267 \r\nL 595.482196 362.532995 \r\nL 596.197527 362.532995 \r\nL 596.555192 333.570824 \r\nL 596.912858 336.419563 \r\nL 597.270523 362.532995 \r\nL 598.34352 362.532995 \r\nL 598.701185 357.310309 \r\nL 599.058851 362.532995 \r\nL 599.774182 362.532995 \r\nL 600.131847 355.41115 \r\nL 600.489513 362.532995 \r\nL 602.27784 362.532995 \r\nL 602.993171 350.663253 \r\nL 603.708502 361.108626 \r\nL 604.066168 359.684257 \r\nL 604.423833 362.532995 \r\nL 605.49683 362.532995 \r\nL 605.854495 362.058206 \r\nL 606.569826 362.532995 \r\nL 606.927491 360.159047 \r\nL 607.285157 362.532995 \r\nL 609.073484 362.532995 \r\nL 609.43115 359.209468 \r\nL 610.146481 361.583416 \r\nL 610.861812 362.532995 \r\nL 613.007805 362.532995 \r\nL 613.36547 357.310309 \r\nL 613.723136 362.532995 \r\nL 615.511463 362.532995 \r\nL 615.869129 346.864936 \r\nL 616.226794 362.532995 \r\nL 616.58446 362.532995 \r\nL 617.29979 360.159047 \r\nL 617.657456 362.532995 \r\nL 623.380104 362.532995 \r\nL 623.737769 358.734678 \r\nL 624.095435 359.684257 \r\nL 624.4531 359.209468 \r\nL 624.810766 360.159047 \r\nL 625.883762 362.532995 \r\nL 626.241428 358.734678 \r\nL 626.599093 277.545641 \r\nL 626.956759 260.453213 \r\nL 627.314424 359.684257 \r\nL 627.67209 362.058206 \r\nL 628.029755 356.835519 \r\nL 628.387421 334.045614 \r\nL 628.745086 345.915356 \r\nL 629.102751 362.532995 \r\nL 629.460417 351.138043 \r\nL 629.818082 361.583416 \r\nL 630.175748 362.058206 \r\nL 630.533413 356.835519 \r\nL 630.891079 355.88594 \r\nL 631.248744 361.108626 \r\nL 631.60641 357.310309 \r\nL 631.964075 354.93636 \r\nL 632.321741 359.209468 \r\nL 632.679406 354.93636 \r\nL 633.037072 358.259888 \r\nL 633.394737 348.289305 \r\nL 633.752403 347.814515 \r\nL 634.110068 346.390146 \r\nL 634.467734 251.906998 \r\nL 634.825399 323.125451 \r\nL 635.183065 359.684257 \r\nL 635.54073 345.440567 \r\nL 635.898396 359.209468 \r\nL 636.256061 362.058206 \r\nL 636.613727 352.087622 \r\nL 636.971392 359.209468 \r\nL 637.329058 346.390146 \r\nL 637.686723 317.902765 \r\nL 638.044389 362.058206 \r\nL 638.402054 361.108626 \r\nL 638.75972 354.461571 \r\nL 639.117385 354.461571 \r\nL 639.475051 362.532995 \r\nL 639.832716 334.520404 \r\nL 640.190381 350.663253 \r\nL 640.905712 359.684257 \r\nL 641.263378 354.93636 \r\nL 641.621043 361.108626 \r\nL 641.978709 362.058206 \r\nL 642.336374 362.532995 \r\nL 643.767036 362.532995 \r\nL 644.124702 349.238884 \r\nL 644.482367 361.108626 \r\nL 644.840033 362.532995 \r\nL 645.197698 362.532995 \r\nL 645.555364 360.633837 \r\nL 645.913029 362.532995 \r\nL 646.62836 361.583416 \r\nL 646.986026 357.310309 \r\nL 647.343691 362.532995 \r\nL 647.701357 362.532995 \r\nL 648.059022 355.41115 \r\nL 648.416688 361.583416 \r\nL 648.774353 358.734678 \r\nL 649.132019 357.310309 \r\nL 649.489684 362.058206 \r\nL 649.84735 352.087622 \r\nL 650.205015 360.159047 \r\nL 650.920346 354.93636 \r\nL 651.278011 359.209468 \r\nL 651.635677 357.785099 \r\nL 651.993342 362.532995 \r\nL 652.708673 362.532995 \r\nL 653.066339 361.108626 \r\nL 653.424004 362.058206 \r\nL 653.78167 362.532995 \r\nL 654.139335 352.562412 \r\nL 654.854666 362.532995 \r\nL 656.642994 362.532995 \r\nL 657.000659 351.138043 \r\nL 657.358325 362.058206 \r\nL 657.71599 362.532995 \r\nL 658.073656 357.310309 \r\nL 658.431321 344.016198 \r\nL 658.788987 357.310309 \r\nL 659.146652 265.201109 \r\nL 659.504318 350.663253 \r\nL 659.861983 348.289305 \r\nL 660.219649 358.734678 \r\nL 660.577314 359.684257 \r\nL 660.93498 354.461571 \r\nL 661.292645 362.532995 \r\nL 661.650311 358.259888 \r\nL 662.007976 360.159047 \r\nL 662.365641 344.965777 \r\nL 662.723307 345.915356 \r\nL 663.080972 325.974189 \r\nL 663.438638 360.633837 \r\nL 663.796303 352.087622 \r\nL 664.153969 362.532995 \r\nL 664.511634 356.835519 \r\nL 664.8693 359.209468 \r\nL 665.226965 347.814515 \r\nL 665.584631 361.583416 \r\nL 665.942296 362.532995 \r\nL 666.299962 362.532995 \r\nL 666.657627 360.633837 \r\nL 667.015293 318.852344 \r\nL 667.372958 355.88594 \r\nL 667.730624 361.108626 \r\nL 668.088289 359.209468 \r\nL 668.445955 354.93636 \r\nL 668.80362 361.108626 \r\nL 669.161286 362.532995 \r\nL 669.518951 357.310309 \r\nL 669.876617 321.701082 \r\nL 670.234282 351.138043 \r\nL 670.591948 353.037202 \r\nL 670.949613 361.583416 \r\nL 671.307279 352.087622 \r\nL 671.664944 360.159047 \r\nL 672.02261 358.259888 \r\nL 672.380275 337.843932 \r\nL 672.737941 348.764095 \r\nL 673.095606 350.663253 \r\nL 673.453271 361.108626 \r\nL 673.810937 362.058206 \r\nL 674.168602 362.532995 \r\nL 674.526268 362.532995 \r\nL 674.883933 359.684257 \r\nL 675.241599 357.785099 \r\nL 675.599264 362.532995 \r\nL 677.745257 362.532995 \r\nL 678.102923 362.058206 \r\nL 678.460588 362.532995 \r\nL 679.533585 362.532995 \r\nL 679.89125 361.583416 \r\nL 680.248916 362.532995 \r\nL 680.606581 361.108626 \r\nL 680.964247 358.259888 \r\nL 681.321912 362.058206 \r\nL 681.679578 356.36073 \r\nL 682.037243 325.02461 \r\nL 682.394909 362.532995 \r\nL 682.752574 361.108626 \r\nL 683.11024 362.532995 \r\nL 683.467905 350.188464 \r\nL 683.825571 362.532995 \r\nL 685.971563 362.532995 \r\nL 686.329229 353.986781 \r\nL 686.686894 299.860757 \r\nL 687.04456 362.532995 \r\nL 687.759891 362.532995 \r\nL 688.475222 221.045668 \r\nL 688.832887 362.058206 \r\nL 689.190553 362.532995 \r\nL 689.548218 362.058206 \r\nL 689.905884 327.873348 \r\nL 690.263549 356.36073 \r\nL 690.621215 362.532995 \r\nL 690.97888 358.259888 \r\nL 691.336546 362.532995 \r\nL 691.694211 362.532995 \r\nL 692.051877 359.684257 \r\nL 692.409542 362.532995 \r\nL 693.840204 362.532995 \r\nL 694.19787 360.633837 \r\nL 694.555535 261.877582 \r\nL 694.913201 273.272534 \r\nL 695.270866 349.713674 \r\nL 695.628531 362.532995 \r\nL 695.986197 343.066618 \r\nL 696.343862 361.108626 \r\nL 696.701528 362.532995 \r\nL 697.059193 362.532995 \r\nL 697.416859 331.671666 \r\nL 697.774524 361.108626 \r\nL 698.13219 362.058206 \r\nL 698.489855 362.532995 \r\nL 699.205186 362.532995 \r\nL 699.562852 359.684257 \r\nL 699.920517 362.532995 \r\nL 700.278183 356.835519 \r\nL 700.635848 362.532995 \r\nL 700.993514 362.532995 \r\nL 701.351179 361.583416 \r\nL 701.708845 358.259888 \r\nL 702.06651 362.532995 \r\nL 702.424176 362.532995 \r\nL 702.781841 356.835519 \r\nL 703.139507 318.377554 \r\nL 703.497172 362.532995 \r\nL 703.854838 362.058206 \r\nL 704.212503 362.532995 \r\nL 704.570169 362.058206 \r\nL 704.927834 360.633837 \r\nL 705.2855 362.058206 \r\nL 705.643165 352.562412 \r\nL 706.000831 362.532995 \r\nL 706.358496 350.188464 \r\nL 706.716161 358.259888 \r\nL 707.073827 357.785099 \r\nL 707.431492 359.684257 \r\nL 707.789158 362.532995 \r\nL 708.504489 362.532995 \r\nL 708.862154 362.058206 \r\nL 709.21982 361.108626 \r\nL 709.577485 357.310309 \r\nL 709.935151 334.520404 \r\nL 710.292816 253.331367 \r\nL 710.650482 344.490987 \r\nL 711.008147 340.21788 \r\nL 711.365813 313.154868 \r\nL 711.723478 266.150689 \r\nL 712.081144 361.583416 \r\nL 712.438809 360.159047 \r\nL 712.796475 279.91959 \r\nL 713.15414 287.516225 \r\nL 713.511806 359.684257 \r\nL 713.869471 362.058206 \r\nL 714.227137 362.532995 \r\nL 714.584802 361.583416 \r\nL 714.942468 353.511991 \r\nL 715.300133 326.448979 \r\nL 715.657799 344.965777 \r\nL 716.015464 313.154868 \r\nL 716.37313 356.36073 \r\nL 716.730795 362.058206 \r\nL 717.088461 362.058206 \r\nL 717.446126 362.532995 \r\nL 718.161457 362.532995 \r\nL 718.519122 361.583416 \r\nL 719.234453 287.516225 \r\nL 719.592119 353.037202 \r\nL 720.30745 361.583416 \r\nL 720.665115 356.835519 \r\nL 721.022781 354.461571 \r\nL 721.738112 361.108626 \r\nL 722.095777 359.209468 \r\nL 722.453443 356.36073 \r\nL 722.811108 362.058206 \r\nL 723.168774 361.583416 \r\nL 723.526439 362.058206 \r\nL 723.884105 359.684257 \r\nL 724.24177 359.684257 \r\nL 724.599436 348.289305 \r\nL 724.957101 353.037202 \r\nL 725.314767 362.532995 \r\nL 725.672432 362.532995 \r\nL 726.030098 358.734678 \r\nL 726.387763 343.541408 \r\nL 726.745429 309.35655 \r\nL 727.103094 350.663253 \r\nL 727.46076 362.532995 \r\nL 727.818425 358.259888 \r\nL 728.176091 358.734678 \r\nL 728.533756 356.36073 \r\nL 728.891421 360.159047 \r\nL 729.249087 362.532995 \r\nL 729.964418 362.532995 \r\nL 730.322083 361.583416 \r\nL 730.679749 333.096035 \r\nL 731.037414 327.398559 \r\nL 731.39508 351.138043 \r\nL 731.752745 351.138043 \r\nL 732.110411 352.087622 \r\nL 732.468076 336.419563 \r\nL 732.825742 359.684257 \r\nL 733.183407 359.209468 \r\nL 733.541073 351.138043 \r\nL 733.898738 358.734678 \r\nL 734.256404 362.532995 \r\nL 734.614069 353.511991 \r\nL 734.971735 359.684257 \r\nL 735.3294 356.835519 \r\nL 735.687066 345.440567 \r\nL 736.044731 361.583416 \r\nL 736.402397 359.684257 \r\nL 736.760062 362.058206 \r\nL 737.117728 362.532995 \r\nL 737.475393 362.532995 \r\nL 737.833059 362.058206 \r\nL 738.54839 355.41115 \r\nL 738.906055 355.41115 \r\nL 739.621386 362.532995 \r\nL 739.979051 362.532995 \r\nL 740.336717 353.986781 \r\nL 740.694382 362.532995 \r\nL 741.052048 357.310309 \r\nL 741.409713 361.583416 \r\nL 741.767379 361.583416 \r\nL 742.125044 349.238884 \r\nL 742.48271 347.339725 \r\nL 743.198041 360.159047 \r\nL 743.555706 357.785099 \r\nL 743.913372 352.562412 \r\nL 744.271037 360.159047 \r\nL 744.628703 360.159047 \r\nL 744.986368 359.684257 \r\nL 745.344034 361.108626 \r\nL 745.701699 353.037202 \r\nL 746.059365 353.037202 \r\nL 746.41703 333.570824 \r\nL 746.774696 357.310309 \r\nL 747.132361 356.835519 \r\nL 747.490027 362.058206 \r\nL 747.847692 358.259888 \r\nL 748.205358 351.612833 \r\nL 748.563023 362.532995 \r\nL 749.278354 362.532995 \r\nL 749.63602 359.684257 \r\nL 749.993685 362.532995 \r\nL 750.709016 362.532995 \r\nL 751.066681 347.339725 \r\nL 751.424347 356.835519 \r\nL 751.782012 362.058206 \r\nL 752.139678 359.684257 \r\nL 752.855009 293.688491 \r\nL 753.212674 357.310309 \r\nL 753.928005 264.25153 \r\nL 754.643336 360.159047 \r\nL 755.001002 245.734732 \r\nL 755.358667 362.058206 \r\nL 755.716333 361.108626 \r\nL 756.073998 315.054027 \r\nL 756.431664 341.642249 \r\nL 756.789329 353.986781 \r\nL 757.146995 315.054027 \r\nL 757.50466 298.436388 \r\nL 757.862326 355.41115 \r\nL 758.219991 345.915356 \r\nL 758.577657 307.457392 \r\nL 758.935322 334.045614 \r\nL 759.292988 313.154868 \r\nL 759.650653 305.558233 \r\nL 760.008319 44.423905 \r\nL 760.72365 333.570824 \r\nL 761.081315 351.612833 \r\nL 761.438981 342.591829 \r\nL 761.796646 350.663253 \r\nL 762.154311 342.117039 \r\nL 762.511977 314.104447 \r\nL 762.869642 326.923769 \r\nL 763.227308 346.864936 \r\nL 763.584973 349.713674 \r\nL 763.942639 360.633837 \r\nL 764.300304 314.104447 \r\nL 764.65797 315.054027 \r\nL 765.015635 360.159047 \r\nL 765.373301 291.789332 \r\nL 765.730966 344.490987 \r\nL 766.088632 314.104447 \r\nL 766.446297 333.570824 \r\nL 766.803963 340.69267 \r\nL 767.161628 198.255763 \r\nL 767.519294 324.075031 \r\nL 767.876959 360.633837 \r\nL 768.234625 362.058206 \r\nL 768.59229 360.633837 \r\nL 768.949956 362.532995 \r\nL 769.307621 362.532995 \r\nL 769.665287 345.915356 \r\nL 770.022952 361.583416 \r\nL 770.380618 359.684257 \r\nL 770.738283 362.532995 \r\nL 771.095949 346.864936 \r\nL 771.453614 362.532995 \r\nL 771.81128 344.490987 \r\nL 772.168945 339.74309 \r\nL 772.526611 362.532995 \r\nL 772.884276 315.054027 \r\nL 773.241941 358.259888 \r\nL 773.599607 297.486808 \r\nL 773.957272 351.138043 \r\nL 774.314938 329.297717 \r\nL 774.672603 343.541408 \r\nL 775.030269 362.532995 \r\nL 775.387934 303.184284 \r\nL 775.7456 344.965777 \r\nL 776.103265 350.663253 \r\nL 776.460931 317.427975 \r\nL 776.818596 298.436388 \r\nL 777.176262 358.259888 \r\nL 777.533927 360.633837 \r\nL 777.891593 361.583416 \r\nL 778.249258 359.684257 \r\nL 778.606924 344.490987 \r\nL 778.964589 360.159047 \r\nL 779.322255 360.159047 \r\nL 779.67992 337.369142 \r\nL 780.037586 360.633837 \r\nL 780.395251 362.058206 \r\nL 780.752917 362.532995 \r\nL 781.468248 362.532995 \r\nL 781.825913 361.583416 \r\nL 782.183579 360.159047 \r\nL 782.541244 319.327134 \r\nL 782.89891 361.583416 \r\nL 783.614241 226.268355 \r\nL 783.971906 262.352371 \r\nL 784.329571 352.087622 \r\nL 784.687237 328.348138 \r\nL 785.044902 313.629658 \r\nL 785.402568 348.289305 \r\nL 785.760233 348.764095 \r\nL 786.117899 329.772507 \r\nL 786.475564 353.037202 \r\nL 786.83323 325.02461 \r\nL 787.190895 328.348138 \r\nL 787.548561 302.234705 \r\nL 787.906226 285.617066 \r\nL 788.263892 347.814515 \r\nL 788.621557 286.566645 \r\nL 788.979223 362.532995 \r\nL 789.336888 361.583416 \r\nL 789.694554 361.108626 \r\nL 790.052219 342.591829 \r\nL 790.409885 360.633837 \r\nL 790.76755 356.36073 \r\nL 791.125216 362.058206 \r\nL 791.482881 358.259888 \r\nL 791.840547 346.864936 \r\nL 792.198212 361.108626 \r\nL 792.555878 362.532995 \r\nL 793.271209 355.41115 \r\nL 793.628874 362.532995 \r\nL 794.344205 303.659074 \r\nL 794.701871 323.125451 \r\nL 795.059536 311.255709 \r\nL 795.417201 344.490987 \r\nL 795.774867 292.264122 \r\nL 796.132532 355.88594 \r\nL 796.490198 355.88594 \r\nL 796.847863 313.629658 \r\nL 797.205529 250.007839 \r\nL 797.563194 319.801924 \r\nL 797.92086 361.108626 \r\nL 798.278525 362.532995 \r\nL 798.993856 362.532995 \r\nL 799.351522 340.21788 \r\nL 799.709187 357.785099 \r\nL 800.066853 362.532995 \r\nL 800.424518 361.108626 \r\nL 800.782184 362.532995 \r\nL 802.570511 362.532995 \r\nL 802.928177 362.058206 \r\nL 803.285842 362.532995 \r\nL 803.643508 362.532995 \r\nL 804.001173 359.209468 \r\nL 804.358839 362.532995 \r\nL 804.716504 362.532995 \r\nL 805.07417 358.734678 \r\nL 805.431835 328.348138 \r\nL 805.789501 322.175872 \r\nL 806.504831 237.188518 \r\nL 806.862497 357.785099 \r\nL 807.220162 361.108626 \r\nL 807.577828 362.532995 \r\nL 807.935493 336.419563 \r\nL 808.293159 362.532995 \r\nL 810.439152 362.532995 \r\nL 810.796817 277.545641 \r\nL 811.154483 362.532995 \r\nL 811.869814 362.532995 \r\nL 812.227479 327.873348 \r\nL 812.585145 275.646483 \r\nL 812.94281 362.532995 \r\nL 813.300476 362.058206 \r\nL 814.015807 356.36073 \r\nL 814.731138 357.785099 \r\nL 815.088803 362.532995 \r\nL 815.446469 359.209468 \r\nL 815.804134 347.339725 \r\nL 816.1618 362.532995 \r\nL 816.519465 362.532995 \r\nL 816.877131 356.835519 \r\nL 817.234796 362.532995 \r\nL 817.592461 362.532995 \r\nL 817.950127 334.995194 \r\nL 818.307792 267.575058 \r\nL 818.665458 334.995194 \r\nL 819.023123 335.944773 \r\nL 819.380789 362.532995 \r\nL 819.738454 345.915356 \r\nL 820.09612 362.532995 \r\nL 820.811451 362.532995 \r\nL 821.169116 362.058206 \r\nL 821.526782 362.532995 \r\nL 825.103437 362.532995 \r\nL 825.461102 361.108626 \r\nL 825.818768 354.461571 \r\nL 826.176433 339.74309 \r\nL 826.534099 362.532995 \r\nL 826.891764 362.532995 \r\nL 827.24943 330.247297 \r\nL 827.607095 359.209468 \r\nL 828.322426 353.037202 \r\nL 828.680091 362.532995 \r\nL 829.037757 351.612833 \r\nL 829.395422 361.583416 \r\nL 829.753088 341.167459 \r\nL 830.110753 362.532995 \r\nL 831.18375 362.532995 \r\nL 831.541415 350.663253 \r\nL 831.899081 331.671666 \r\nL 832.256746 351.612833 \r\nL 832.614412 228.642303 \r\nL 832.972077 319.801924 \r\nL 833.329743 357.310309 \r\nL 833.687408 300.810336 \r\nL 834.045074 316.003606 \r\nL 834.402739 355.88594 \r\nL 834.760405 362.532995 \r\nL 835.11807 275.171693 \r\nL 835.475736 298.436388 \r\nL 835.833401 345.915356 \r\nL 836.191067 360.159047 \r\nL 836.548732 362.532995 \r\nL 836.906398 352.087622 \r\nL 837.264063 357.310309 \r\nL 837.621729 325.02461 \r\nL 837.979394 362.532995 \r\nL 838.33706 324.54982 \r\nL 838.694725 350.663253 \r\nL 839.052391 362.532995 \r\nL 839.767721 357.785099 \r\nL 840.125387 362.532995 \r\nL 840.483052 361.108626 \r\nL 840.840718 309.83134 \r\nL 841.198383 351.612833 \r\nL 841.556049 336.419563 \r\nL 841.913714 341.642249 \r\nL 842.27138 357.785099 \r\nL 842.629045 357.785099 \r\nL 842.986711 315.054027 \r\nL 843.702042 348.289305 \r\nL 844.059707 359.684257 \r\nL 844.417373 362.532995 \r\nL 845.132704 362.532995 \r\nL 845.490369 348.289305 \r\nL 845.848035 341.642249 \r\nL 846.2057 259.503633 \r\nL 846.563366 320.751503 \r\nL 846.921031 362.532995 \r\nL 847.278697 338.793511 \r\nL 847.636362 362.532995 \r\nL 848.351693 362.058206 \r\nL 849.067024 323.600241 \r\nL 849.42469 362.058206 \r\nL 849.782355 362.532995 \r\nL 850.140021 362.058206 \r\nL 850.497686 362.532995 \r\nL 851.213017 329.297717 \r\nL 851.570682 324.075031 \r\nL 851.928348 331.671666 \r\nL 852.286013 324.075031 \r\nL 852.643679 282.293538 \r\nL 853.001344 357.785099 \r\nL 853.35901 357.785099 \r\nL 853.716675 329.297717 \r\nL 854.074341 343.541408 \r\nL 854.432006 347.814515 \r\nL 854.789672 348.289305 \r\nL 855.147337 349.238884 \r\nL 855.505003 338.793511 \r\nL 855.862668 352.087622 \r\nL 856.220334 338.793511 \r\nL 856.577999 361.583416 \r\nL 856.935665 357.785099 \r\nL 857.29333 361.583416 \r\nL 857.650996 360.633837 \r\nL 858.008661 353.037202 \r\nL 858.366327 357.785099 \r\nL 858.723992 338.793511 \r\nL 859.081658 343.541408 \r\nL 859.439323 362.532995 \r\nL 859.796989 362.532995 \r\nL 860.154654 361.583416 \r\nL 860.51232 348.289305 \r\nL 860.869985 361.583416 \r\nL 861.227651 362.532995 \r\nL 861.585316 361.583416 \r\nL 861.942981 362.532995 \r\nL 862.300647 360.159047 \r\nL 862.658312 330.247297 \r\nL 863.015978 330.247297 \r\nL 863.373643 357.785099 \r\nL 863.731309 338.793511 \r\nL 864.088974 344.016198 \r\nL 864.44664 248.58347 \r\nL 864.804305 349.713674 \r\nL 865.161971 329.297717 \r\nL 865.519636 357.785099 \r\nL 865.877302 172.61712 \r\nL 866.234967 324.54982 \r\nL 866.592633 322.650662 \r\nL 866.950298 348.289305 \r\nL 867.307964 348.289305 \r\nL 867.665629 362.532995 \r\nL 868.023295 343.541408 \r\nL 868.38096 348.289305 \r\nL 868.738626 348.289305 \r\nL 869.096291 362.532995 \r\nL 869.811622 350.663253 \r\nL 870.169288 359.684257 \r\nL 871.242284 360.159047 \r\nL 871.59995 346.390146 \r\nL 871.957615 355.41115 \r\nL 872.315281 359.209468 \r\nL 873.745942 352.087622 \r\nL 874.103608 342.591829 \r\nL 874.461273 342.591829 \r\nL 874.818939 356.36073 \r\nL 875.53427 358.259888 \r\nL 876.249601 335.944773 \r\nL 876.964932 341.167459 \r\nL 876.964932 341.167459 \r\n\" style=\"fill:none;stroke:#008fd5;stroke-width:4;\"/>\r\n   </g>\r\n   <g id=\"patch_3\">\r\n    <path d=\"M 39.86675 378.43845 \r\nL 39.86675 28.51845 \r\n\" style=\"fill:none;stroke:#f0f0f0;stroke-linecap:square;stroke-linejoin:miter;stroke-width:3;\"/>\r\n   </g>\r\n   <g id=\"patch_4\">\r\n    <path d=\"M 916.82675 378.43845 \r\nL 916.82675 28.51845 \r\n\" style=\"fill:none;stroke:#f0f0f0;stroke-linecap:square;stroke-linejoin:miter;stroke-width:3;\"/>\r\n   </g>\r\n   <g id=\"patch_5\">\r\n    <path d=\"M 39.86675 378.43845 \r\nL 916.82675 378.43845 \r\n\" style=\"fill:none;stroke:#f0f0f0;stroke-linecap:square;stroke-linejoin:miter;stroke-width:3;\"/>\r\n   </g>\r\n   <g id=\"patch_6\">\r\n    <path d=\"M 39.86675 28.51845 \r\nL 916.82675 28.51845 \r\n\" style=\"fill:none;stroke:#f0f0f0;stroke-linecap:square;stroke-linejoin:miter;stroke-width:3;\"/>\r\n   </g>\r\n   <g id=\"text_16\">\r\n    <!-- Precipitation 08/2016 - 08/2017 -->\r\n    <g transform=\"translate(318.347225 22.51845)scale(0.2016 -0.2016)\">\r\n     <defs>\r\n      <path d=\"M 2034 2216 \r\nQ 1584 2216 1326 1975 \r\nQ 1069 1734 1069 1313 \r\nQ 1069 891 1326 650 \r\nQ 1584 409 2034 409 \r\nQ 2484 409 2743 651 \r\nQ 3003 894 3003 1313 \r\nQ 3003 1734 2745 1975 \r\nQ 2488 2216 2034 2216 \r\nz\r\nM 1403 2484 \r\nQ 997 2584 770 2862 \r\nQ 544 3141 544 3541 \r\nQ 544 4100 942 4425 \r\nQ 1341 4750 2034 4750 \r\nQ 2731 4750 3128 4425 \r\nQ 3525 4100 3525 3541 \r\nQ 3525 3141 3298 2862 \r\nQ 3072 2584 2669 2484 \r\nQ 3125 2378 3379 2068 \r\nQ 3634 1759 3634 1313 \r\nQ 3634 634 3220 271 \r\nQ 2806 -91 2034 -91 \r\nQ 1263 -91 848 271 \r\nQ 434 634 434 1313 \r\nQ 434 1759 690 2068 \r\nQ 947 2378 1403 2484 \r\nz\r\nM 1172 3481 \r\nQ 1172 3119 1398 2916 \r\nQ 1625 2713 2034 2713 \r\nQ 2441 2713 2670 2916 \r\nQ 2900 3119 2900 3481 \r\nQ 2900 3844 2670 4047 \r\nQ 2441 4250 2034 4250 \r\nQ 1625 4250 1398 4047 \r\nQ 1172 3844 1172 3481 \r\nz\r\n\" id=\"DejaVuSans-38\" transform=\"scale(0.015625)\"/>\r\n      <path d=\"M 1625 4666 \r\nL 2156 4666 \r\nL 531 -594 \r\nL 0 -594 \r\nL 1625 4666 \r\nz\r\n\" id=\"DejaVuSans-2f\" transform=\"scale(0.015625)\"/>\r\n      <path d=\"M 313 2009 \r\nL 1997 2009 \r\nL 1997 1497 \r\nL 313 1497 \r\nL 313 2009 \r\nz\r\n\" id=\"DejaVuSans-2d\" transform=\"scale(0.015625)\"/>\r\n     </defs>\r\n     <use xlink:href=\"#DejaVuSans-50\"/>\r\n     <use x=\"58.552734\" xlink:href=\"#DejaVuSans-72\"/>\r\n     <use x=\"97.416016\" xlink:href=\"#DejaVuSans-65\"/>\r\n     <use x=\"158.939453\" xlink:href=\"#DejaVuSans-63\"/>\r\n     <use x=\"213.919922\" xlink:href=\"#DejaVuSans-69\"/>\r\n     <use x=\"241.703125\" xlink:href=\"#DejaVuSans-70\"/>\r\n     <use x=\"305.179688\" xlink:href=\"#DejaVuSans-69\"/>\r\n     <use x=\"332.962891\" xlink:href=\"#DejaVuSans-74\"/>\r\n     <use x=\"372.171875\" xlink:href=\"#DejaVuSans-61\"/>\r\n     <use x=\"433.451172\" xlink:href=\"#DejaVuSans-74\"/>\r\n     <use x=\"472.660156\" xlink:href=\"#DejaVuSans-69\"/>\r\n     <use x=\"500.443359\" xlink:href=\"#DejaVuSans-6f\"/>\r\n     <use x=\"561.625\" xlink:href=\"#DejaVuSans-6e\"/>\r\n     <use x=\"625.003906\" xlink:href=\"#DejaVuSans-20\"/>\r\n     <use x=\"656.791016\" xlink:href=\"#DejaVuSans-30\"/>\r\n     <use x=\"720.414062\" xlink:href=\"#DejaVuSans-38\"/>\r\n     <use x=\"784.037109\" xlink:href=\"#DejaVuSans-2f\"/>\r\n     <use x=\"817.728516\" xlink:href=\"#DejaVuSans-32\"/>\r\n     <use x=\"881.351562\" xlink:href=\"#DejaVuSans-30\"/>\r\n     <use x=\"944.974609\" xlink:href=\"#DejaVuSans-31\"/>\r\n     <use x=\"1008.597656\" xlink:href=\"#DejaVuSans-36\"/>\r\n     <use x=\"1072.220703\" xlink:href=\"#DejaVuSans-20\"/>\r\n     <use x=\"1104.007812\" xlink:href=\"#DejaVuSans-2d\"/>\r\n     <use x=\"1140.091797\" xlink:href=\"#DejaVuSans-20\"/>\r\n     <use x=\"1171.878906\" xlink:href=\"#DejaVuSans-30\"/>\r\n     <use x=\"1235.501953\" xlink:href=\"#DejaVuSans-38\"/>\r\n     <use x=\"1299.125\" xlink:href=\"#DejaVuSans-2f\"/>\r\n     <use x=\"1332.816406\" xlink:href=\"#DejaVuSans-32\"/>\r\n     <use x=\"1396.439453\" xlink:href=\"#DejaVuSans-30\"/>\r\n     <use x=\"1460.0625\" xlink:href=\"#DejaVuSans-31\"/>\r\n     <use x=\"1523.685547\" xlink:href=\"#DejaVuSans-37\"/>\r\n    </g>\r\n   </g>\r\n   <g id=\"legend_1\">\r\n    <g id=\"patch_7\">\r\n     <path d=\"M 853.31925 60.267825 \r\nL 907.02675 60.267825 \r\nQ 909.82675 60.267825 909.82675 57.467825 \r\nL 909.82675 38.31845 \r\nQ 909.82675 35.51845 907.02675 35.51845 \r\nL 853.31925 35.51845 \r\nQ 850.51925 35.51845 850.51925 38.31845 \r\nL 850.51925 57.467825 \r\nQ 850.51925 60.267825 853.31925 60.267825 \r\nz\r\n\" style=\"fill:#f0f0f0;opacity:0.8;stroke:#cccccc;stroke-linejoin:miter;stroke-width:0.5;\"/>\r\n    </g>\r\n    <g id=\"line2d_28\">\r\n     <path d=\"M 856.11925 46.856262 \r\nL 884.11925 46.856262 \r\n\" style=\"fill:none;stroke:#008fd5;stroke-width:4;\"/>\r\n    </g>\r\n    <g id=\"line2d_29\"/>\r\n    <g id=\"text_17\">\r\n     <!-- 1 -->\r\n     <g transform=\"translate(895.31925 51.756262)scale(0.14 -0.14)\">\r\n      <use xlink:href=\"#DejaVuSans-31\"/>\r\n     </g>\r\n    </g>\r\n   </g>\r\n  </g>\r\n </g>\r\n <defs>\r\n  <clipPath id=\"p8b31795433\">\r\n   <rect height=\"349.92\" width=\"876.96\" x=\"39.86675\" y=\"28.51845\"/>\r\n  </clipPath>\r\n </defs>\r\n</svg>\r\n",
      "image/png": "[encoded data removed]"
     },
     "metadata": {}
    }
   ],
   "metadata": {}
  },
  {
   "cell_type": "code",
   "execution_count": 28,
   "source": [
    "# Use Pandas to calcualte the summary statistics for the precipitation data\r\n",
    "precip_df.describe()"
   ],
   "outputs": [
    {
     "output_type": "execute_result",
     "data": {
      "text/plain": [
       "                 1\n",
       "count  2021.000000\n",
       "mean      0.177279\n",
       "std       0.461190\n",
       "min       0.000000\n",
       "25%       0.000000\n",
       "50%       0.020000\n",
       "75%       0.130000\n",
       "max       6.700000"
      ],
      "text/html": [
       "<div>\n",
       "<style scoped>\n",
       "    .dataframe tbody tr th:only-of-type {\n",
       "        vertical-align: middle;\n",
       "    }\n",
       "\n",
       "    .dataframe tbody tr th {\n",
       "        vertical-align: top;\n",
       "    }\n",
       "\n",
       "    .dataframe thead th {\n",
       "        text-align: right;\n",
       "    }\n",
       "</style>\n",
       "<table border=\"1\" class=\"dataframe\">\n",
       "  <thead>\n",
       "    <tr style=\"text-align: right;\">\n",
       "      <th></th>\n",
       "      <th>1</th>\n",
       "    </tr>\n",
       "  </thead>\n",
       "  <tbody>\n",
       "    <tr>\n",
       "      <th>count</th>\n",
       "      <td>2021.000000</td>\n",
       "    </tr>\n",
       "    <tr>\n",
       "      <th>mean</th>\n",
       "      <td>0.177279</td>\n",
       "    </tr>\n",
       "    <tr>\n",
       "      <th>std</th>\n",
       "      <td>0.461190</td>\n",
       "    </tr>\n",
       "    <tr>\n",
       "      <th>min</th>\n",
       "      <td>0.000000</td>\n",
       "    </tr>\n",
       "    <tr>\n",
       "      <th>25%</th>\n",
       "      <td>0.000000</td>\n",
       "    </tr>\n",
       "    <tr>\n",
       "      <th>50%</th>\n",
       "      <td>0.020000</td>\n",
       "    </tr>\n",
       "    <tr>\n",
       "      <th>75%</th>\n",
       "      <td>0.130000</td>\n",
       "    </tr>\n",
       "    <tr>\n",
       "      <th>max</th>\n",
       "      <td>6.700000</td>\n",
       "    </tr>\n",
       "  </tbody>\n",
       "</table>\n",
       "</div>"
      ]
     },
     "metadata": {},
     "execution_count": 28
    }
   ],
   "metadata": {}
  },
  {
   "cell_type": "code",
   "execution_count": 30,
   "source": [
    "# Design a query to show how many stations are available in this dataset?\r\n",
    "number_of_stations = session.query(Station.id).distinct().count()\r\n",
    "number_of_stations"
   ],
   "outputs": [
    {
     "output_type": "execute_result",
     "data": {
      "text/plain": [
       "9"
      ]
     },
     "metadata": {},
     "execution_count": 30
    }
   ],
   "metadata": {}
  },
  {
   "cell_type": "code",
   "execution_count": 40,
   "source": [
    "# What are the most active stations? (i.e. what stations have the most rows)?\r\n",
    "# List the stations and the counts in descending order.\r\n",
    "active_station = session.query(Station.station, func.count(Measurement.id)).select_from(Measurement).\\\r\n",
    "    join(Station, Measurement.station == Station.station).group_by(Station.station).\\\r\n",
    "    order_by(func.count(Measurement.id).desc()).all()\r\n",
    "\r\n",
    "for result in active_station:\r\n",
    "    print(f\"Station: {result[0]}\\tCount: {result[1]}\")"
   ],
   "outputs": [
    {
     "output_type": "stream",
     "name": "stdout",
     "text": [
      "Station: USC00519281\tCount: 2772\n",
      "Station: USC00519397\tCount: 2724\n",
      "Station: USC00513117\tCount: 2709\n",
      "Station: USC00519523\tCount: 2669\n",
      "Station: USC00516128\tCount: 2612\n",
      "Station: USC00514830\tCount: 2202\n",
      "Station: USC00511918\tCount: 1979\n",
      "Station: USC00517948\tCount: 1372\n",
      "Station: USC00518838\tCount: 511\n"
     ]
    }
   ],
   "metadata": {}
  },
  {
   "cell_type": "code",
   "execution_count": 41,
   "source": [
    "most_active_station = active_station [0][0]\r\n",
    "most_active_station"
   ],
   "outputs": [
    {
     "output_type": "execute_result",
     "data": {
      "text/plain": [
       "'USC00519281'"
      ]
     },
     "metadata": {},
     "execution_count": 41
    }
   ],
   "metadata": {}
  },
  {
   "cell_type": "code",
   "execution_count": 45,
   "source": [
    "# Using the station id from the previous query, calculate the lowest temperature recorded, \r\n",
    "# highest temperature recorded, and average temperature of the most active station?\r\n",
    "low_avg_high_temp = session.query(func.min(Measurement.tobs), func.max(Measurement.tobs), func.avg(Measurement.tobs)).\\\r\n",
    "    filter(Measurement.station == most_active_station).all()\r\n",
    "print(f\"Lowest Temperature: {temp[0][0]} F\")\r\n",
    "print(f\"Average Temperature: {round(temp[0][2],2)} F\")\r\n",
    "print(f\"Highest Temperature: {temp[0][1]} F\")"
   ],
   "outputs": [
    {
     "output_type": "stream",
     "name": "stdout",
     "text": [
      "Lowest Temperature: 54.0 F\n",
      "Average Temperature: 71.66 F\n",
      "Highest Temperature: 85.0 F\n"
     ]
    }
   ],
   "metadata": {}
  },
  {
   "cell_type": "code",
   "execution_count": null,
   "source": [
    "top_station     = session.query(Measurement.date, Measurement.tobs).filter(Measurement.station == most_active_station).\\\r\n",
    "    filter(func.strftime(\"%Y-%m-%d\", Measurement.date) >= dt.date(2016, 8, 23)).all()\r\n",
    "top_station"
   ],
   "outputs": [],
   "metadata": {}
  },
  {
   "cell_type": "code",
   "execution_count": 52,
   "source": [
    "# Choose the station with the highest number of temperature observations.\r\n",
    "# Query the last 12 months of temperature observation data for this station and plot the results as a histogram\r\n",
    "busiest_station = session.query(Measurement.date, Measurement.tobs).filter(Measurement.station == most_active_station).\\\r\n",
    "    filter(func.strftime(\"%Y-%m-%d\", Measurement.date) >= dt.date(2016, 8, 23)).all()\r\n",
    "busiest_station\r\n"
   ],
   "outputs": [
    {
     "output_type": "execute_result",
     "data": {
      "text/plain": [
       "[('2016-08-23', 77.0),\n",
       " ('2016-08-24', 77.0),\n",
       " ('2016-08-25', 80.0),\n",
       " ('2016-08-26', 80.0),\n",
       " ('2016-08-27', 75.0),\n",
       " ('2016-08-28', 73.0),\n",
       " ('2016-08-29', 78.0),\n",
       " ('2016-08-30', 77.0),\n",
       " ('2016-08-31', 78.0),\n",
       " ('2016-09-01', 80.0),\n",
       " ('2016-09-02', 80.0),\n",
       " ('2016-09-03', 78.0),\n",
       " ('2016-09-04', 78.0),\n",
       " ('2016-09-05', 78.0),\n",
       " ('2016-09-06', 73.0),\n",
       " ('2016-09-07', 74.0),\n",
       " ('2016-09-08', 80.0),\n",
       " ('2016-09-09', 79.0),\n",
       " ('2016-09-10', 77.0),\n",
       " ('2016-09-11', 80.0),\n",
       " ('2016-09-12', 76.0),\n",
       " ('2016-09-13', 79.0),\n",
       " ('2016-09-14', 75.0),\n",
       " ('2016-09-15', 79.0),\n",
       " ('2016-09-16', 78.0),\n",
       " ('2016-09-17', 79.0),\n",
       " ('2016-09-18', 78.0),\n",
       " ('2016-09-19', 78.0),\n",
       " ('2016-09-20', 76.0),\n",
       " ('2016-09-21', 74.0),\n",
       " ('2016-09-22', 77.0),\n",
       " ('2016-09-23', 78.0),\n",
       " ('2016-09-24', 79.0),\n",
       " ('2016-09-25', 79.0),\n",
       " ('2016-09-26', 77.0),\n",
       " ('2016-09-27', 80.0),\n",
       " ('2016-09-28', 78.0),\n",
       " ('2016-09-29', 78.0),\n",
       " ('2016-09-30', 78.0),\n",
       " ('2016-10-01', 77.0),\n",
       " ('2016-10-02', 79.0),\n",
       " ('2016-10-03', 79.0),\n",
       " ('2016-10-04', 79.0),\n",
       " ('2016-10-05', 79.0),\n",
       " ('2016-10-06', 75.0),\n",
       " ('2016-10-07', 76.0),\n",
       " ('2016-10-08', 73.0),\n",
       " ('2016-10-09', 72.0),\n",
       " ('2016-10-10', 71.0),\n",
       " ('2016-10-11', 77.0),\n",
       " ('2016-10-12', 79.0),\n",
       " ('2016-10-13', 78.0),\n",
       " ('2016-10-14', 79.0),\n",
       " ('2016-10-15', 77.0),\n",
       " ('2016-10-16', 79.0),\n",
       " ('2016-10-17', 77.0),\n",
       " ('2016-10-18', 78.0),\n",
       " ('2016-10-19', 78.0),\n",
       " ('2016-10-20', 78.0),\n",
       " ('2016-10-21', 78.0),\n",
       " ('2016-10-22', 77.0),\n",
       " ('2016-10-23', 74.0),\n",
       " ('2016-10-24', 75.0),\n",
       " ('2016-10-25', 76.0),\n",
       " ('2016-10-26', 73.0),\n",
       " ('2016-10-27', 76.0),\n",
       " ('2016-10-28', 74.0),\n",
       " ('2016-10-29', 77.0),\n",
       " ('2016-10-30', 76.0),\n",
       " ('2016-10-31', 76.0),\n",
       " ('2016-11-01', 74.0),\n",
       " ('2016-11-02', 75.0),\n",
       " ('2016-11-03', 75.0),\n",
       " ('2016-11-04', 75.0),\n",
       " ('2016-11-05', 75.0),\n",
       " ('2016-11-06', 71.0),\n",
       " ('2016-11-07', 63.0),\n",
       " ('2016-11-08', 70.0),\n",
       " ('2016-11-09', 68.0),\n",
       " ('2016-11-10', 67.0),\n",
       " ('2016-11-11', 77.0),\n",
       " ('2016-11-12', 74.0),\n",
       " ('2016-11-13', 77.0),\n",
       " ('2016-11-14', 76.0),\n",
       " ('2016-11-15', 76.0),\n",
       " ('2016-11-16', 75.0),\n",
       " ('2016-11-17', 76.0),\n",
       " ('2016-11-18', 75.0),\n",
       " ('2016-11-19', 73.0),\n",
       " ('2016-11-20', 75.0),\n",
       " ('2016-11-21', 73.0),\n",
       " ('2016-11-22', 75.0),\n",
       " ('2016-11-23', 74.0),\n",
       " ('2016-11-24', 75.0),\n",
       " ('2016-11-25', 74.0),\n",
       " ('2016-11-26', 75.0),\n",
       " ('2016-11-27', 73.0),\n",
       " ('2016-11-28', 75.0),\n",
       " ('2016-11-29', 73.0),\n",
       " ('2016-11-30', 73.0),\n",
       " ('2016-12-01', 74.0),\n",
       " ('2016-12-02', 70.0),\n",
       " ('2016-12-03', 72.0),\n",
       " ('2016-12-04', 70.0),\n",
       " ('2016-12-05', 67.0),\n",
       " ('2016-12-06', 67.0),\n",
       " ('2016-12-07', 69.0),\n",
       " ('2016-12-08', 70.0),\n",
       " ('2016-12-09', 68.0),\n",
       " ('2016-12-10', 69.0),\n",
       " ('2016-12-11', 69.0),\n",
       " ('2016-12-12', 66.0),\n",
       " ('2016-12-13', 65.0),\n",
       " ('2016-12-14', 68.0),\n",
       " ('2016-12-15', 62.0),\n",
       " ('2016-12-16', 75.0),\n",
       " ('2016-12-17', 70.0),\n",
       " ('2016-12-18', 69.0),\n",
       " ('2016-12-19', 76.0),\n",
       " ('2016-12-20', 76.0),\n",
       " ('2016-12-21', 74.0),\n",
       " ('2016-12-22', 73.0),\n",
       " ('2016-12-23', 71.0),\n",
       " ('2016-12-24', 74.0),\n",
       " ('2016-12-25', 74.0),\n",
       " ('2016-12-26', 72.0),\n",
       " ('2016-12-27', 71.0),\n",
       " ('2016-12-28', 72.0),\n",
       " ('2016-12-29', 74.0),\n",
       " ('2016-12-30', 69.0),\n",
       " ('2016-12-31', 67.0),\n",
       " ('2017-01-01', 72.0),\n",
       " ('2017-01-02', 70.0),\n",
       " ('2017-01-03', 64.0),\n",
       " ('2017-01-04', 63.0),\n",
       " ('2017-01-05', 63.0),\n",
       " ('2017-01-06', 62.0),\n",
       " ('2017-01-07', 70.0),\n",
       " ('2017-01-08', 70.0),\n",
       " ('2017-01-09', 62.0),\n",
       " ('2017-01-10', 62.0),\n",
       " ('2017-01-11', 63.0),\n",
       " ('2017-01-12', 65.0),\n",
       " ('2017-01-13', 69.0),\n",
       " ('2017-01-14', 77.0),\n",
       " ('2017-01-15', 70.0),\n",
       " ('2017-01-16', 74.0),\n",
       " ('2017-01-17', 69.0),\n",
       " ('2017-01-18', 72.0),\n",
       " ('2017-01-19', 71.0),\n",
       " ('2017-01-20', 69.0),\n",
       " ('2017-01-21', 71.0),\n",
       " ('2017-01-22', 71.0),\n",
       " ('2017-01-23', 72.0),\n",
       " ('2017-01-24', 72.0),\n",
       " ('2017-01-25', 69.0),\n",
       " ('2017-01-26', 70.0),\n",
       " ('2017-01-27', 66.0),\n",
       " ('2017-01-28', 65.0),\n",
       " ('2017-01-29', 69.0),\n",
       " ('2017-01-30', 68.0),\n",
       " ('2017-01-31', 68.0),\n",
       " ('2017-02-01', 68.0),\n",
       " ('2017-02-02', 59.0),\n",
       " ('2017-02-03', 60.0),\n",
       " ('2017-02-04', 70.0),\n",
       " ('2017-02-05', 73.0),\n",
       " ('2017-02-06', 75.0),\n",
       " ('2017-02-07', 64.0),\n",
       " ('2017-02-08', 59.0),\n",
       " ('2017-02-09', 59.0),\n",
       " ('2017-02-10', 62.0),\n",
       " ('2017-02-11', 68.0),\n",
       " ('2017-02-12', 70.0),\n",
       " ('2017-02-13', 73.0),\n",
       " ('2017-02-14', 79.0),\n",
       " ('2017-02-15', 75.0),\n",
       " ('2017-02-16', 65.0),\n",
       " ('2017-02-17', 70.0),\n",
       " ('2017-02-18', 74.0),\n",
       " ('2017-02-19', 70.0),\n",
       " ('2017-02-20', 70.0),\n",
       " ('2017-02-21', 71.0),\n",
       " ('2017-02-22', 71.0),\n",
       " ('2017-02-23', 71.0),\n",
       " ('2017-02-24', 69.0),\n",
       " ('2017-02-25', 61.0),\n",
       " ('2017-02-26', 67.0),\n",
       " ('2017-02-27', 65.0),\n",
       " ('2017-02-28', 72.0),\n",
       " ('2017-03-01', 71.0),\n",
       " ('2017-03-02', 73.0),\n",
       " ('2017-03-03', 72.0),\n",
       " ('2017-03-04', 77.0),\n",
       " ('2017-03-05', 73.0),\n",
       " ('2017-03-06', 67.0),\n",
       " ('2017-03-07', 62.0),\n",
       " ('2017-03-08', 64.0),\n",
       " ('2017-03-09', 67.0),\n",
       " ('2017-03-10', 66.0),\n",
       " ('2017-03-11', 81.0),\n",
       " ('2017-03-12', 69.0),\n",
       " ('2017-03-13', 66.0),\n",
       " ('2017-03-14', 67.0),\n",
       " ('2017-03-15', 69.0),\n",
       " ('2017-03-16', 66.0),\n",
       " ('2017-03-17', 68.0),\n",
       " ('2017-03-18', 65.0),\n",
       " ('2017-03-19', 74.0),\n",
       " ('2017-03-20', 69.0),\n",
       " ('2017-03-21', 72.0),\n",
       " ('2017-03-22', 73.0),\n",
       " ('2017-03-23', 72.0),\n",
       " ('2017-03-24', 71.0),\n",
       " ('2017-03-25', 76.0),\n",
       " ('2017-03-26', 77.0),\n",
       " ('2017-03-27', 76.0),\n",
       " ('2017-03-28', 74.0),\n",
       " ('2017-03-29', 68.0),\n",
       " ('2017-03-30', 73.0),\n",
       " ('2017-03-31', 71.0),\n",
       " ('2017-04-01', 74.0),\n",
       " ('2017-04-02', 75.0),\n",
       " ('2017-04-03', 70.0),\n",
       " ('2017-04-04', 67.0),\n",
       " ('2017-04-05', 71.0),\n",
       " ('2017-04-06', 67.0),\n",
       " ('2017-04-07', 74.0),\n",
       " ('2017-04-08', 77.0),\n",
       " ('2017-04-09', 78.0),\n",
       " ('2017-04-10', 67.0),\n",
       " ('2017-04-11', 70.0),\n",
       " ('2017-04-12', 69.0),\n",
       " ('2017-04-13', 69.0),\n",
       " ('2017-04-14', 74.0),\n",
       " ('2017-04-15', 78.0),\n",
       " ('2017-04-16', 71.0),\n",
       " ('2017-04-17', 67.0),\n",
       " ('2017-04-18', 68.0),\n",
       " ('2017-04-19', 67.0),\n",
       " ('2017-04-20', 76.0),\n",
       " ('2017-04-21', 69.0),\n",
       " ('2017-04-22', 72.0),\n",
       " ('2017-04-23', 76.0),\n",
       " ('2017-04-24', 68.0),\n",
       " ('2017-04-25', 72.0),\n",
       " ('2017-04-26', 74.0),\n",
       " ('2017-04-27', 70.0),\n",
       " ('2017-04-28', 67.0),\n",
       " ('2017-04-29', 72.0),\n",
       " ('2017-04-30', 60.0),\n",
       " ('2017-05-01', 65.0),\n",
       " ('2017-05-02', 75.0),\n",
       " ('2017-05-03', 70.0),\n",
       " ('2017-05-04', 75.0),\n",
       " ('2017-05-05', 70.0),\n",
       " ('2017-05-06', 79.0),\n",
       " ('2017-05-07', 75.0),\n",
       " ('2017-05-08', 70.0),\n",
       " ('2017-05-09', 67.0),\n",
       " ('2017-05-10', 74.0),\n",
       " ('2017-05-11', 70.0),\n",
       " ('2017-05-12', 75.0),\n",
       " ('2017-05-13', 76.0),\n",
       " ('2017-05-14', 77.0),\n",
       " ('2017-05-15', 74.0),\n",
       " ('2017-05-16', 74.0),\n",
       " ('2017-05-17', 74.0),\n",
       " ('2017-05-18', 69.0),\n",
       " ('2017-05-19', 68.0),\n",
       " ('2017-05-20', 76.0),\n",
       " ('2017-05-21', 74.0),\n",
       " ('2017-05-22', 71.0),\n",
       " ('2017-05-23', 71.0),\n",
       " ('2017-05-24', 74.0),\n",
       " ('2017-05-25', 74.0),\n",
       " ('2017-05-26', 74.0),\n",
       " ('2017-05-27', 74.0),\n",
       " ('2017-05-28', 80.0),\n",
       " ('2017-05-29', 74.0),\n",
       " ('2017-05-30', 72.0),\n",
       " ('2017-05-31', 75.0),\n",
       " ('2017-06-01', 80.0),\n",
       " ('2017-06-02', 76.0),\n",
       " ('2017-06-03', 76.0),\n",
       " ('2017-06-04', 77.0),\n",
       " ('2017-06-05', 75.0),\n",
       " ('2017-06-06', 75.0),\n",
       " ('2017-06-07', 75.0),\n",
       " ('2017-06-08', 75.0),\n",
       " ('2017-06-09', 72.0),\n",
       " ('2017-06-10', 74.0),\n",
       " ('2017-06-11', 74.0),\n",
       " ('2017-06-12', 74.0),\n",
       " ('2017-06-13', 76.0),\n",
       " ('2017-06-14', 74.0),\n",
       " ('2017-06-15', 75.0),\n",
       " ('2017-06-16', 73.0),\n",
       " ('2017-06-17', 79.0),\n",
       " ('2017-06-18', 75.0),\n",
       " ('2017-06-19', 72.0),\n",
       " ('2017-06-20', 72.0),\n",
       " ('2017-06-21', 74.0),\n",
       " ('2017-06-22', 72.0),\n",
       " ('2017-06-23', 72.0),\n",
       " ('2017-06-24', 77.0),\n",
       " ('2017-06-25', 71.0),\n",
       " ('2017-06-26', 73.0),\n",
       " ('2017-06-27', 76.0),\n",
       " ('2017-06-28', 77.0),\n",
       " ('2017-06-29', 76.0),\n",
       " ('2017-06-30', 76.0),\n",
       " ('2017-07-01', 79.0),\n",
       " ('2017-07-02', 81.0),\n",
       " ('2017-07-03', 76.0),\n",
       " ('2017-07-04', 78.0),\n",
       " ('2017-07-05', 77.0),\n",
       " ('2017-07-06', 74.0),\n",
       " ('2017-07-07', 75.0),\n",
       " ('2017-07-08', 78.0),\n",
       " ('2017-07-09', 78.0),\n",
       " ('2017-07-10', 69.0),\n",
       " ('2017-07-11', 72.0),\n",
       " ('2017-07-12', 74.0),\n",
       " ('2017-07-13', 74.0),\n",
       " ('2017-07-14', 76.0),\n",
       " ('2017-07-15', 80.0),\n",
       " ('2017-07-16', 80.0),\n",
       " ('2017-07-17', 76.0),\n",
       " ('2017-07-18', 76.0),\n",
       " ('2017-07-19', 76.0),\n",
       " ('2017-07-20', 77.0),\n",
       " ('2017-07-21', 77.0),\n",
       " ('2017-07-22', 77.0),\n",
       " ('2017-07-23', 82.0),\n",
       " ('2017-07-24', 75.0),\n",
       " ('2017-07-25', 77.0),\n",
       " ('2017-07-26', 75.0),\n",
       " ('2017-07-27', 76.0),\n",
       " ('2017-07-28', 81.0),\n",
       " ('2017-07-29', 82.0),\n",
       " ('2017-07-30', 81.0),\n",
       " ('2017-07-31', 76.0),\n",
       " ('2017-08-04', 77.0),\n",
       " ('2017-08-05', 82.0),\n",
       " ('2017-08-06', 83.0),\n",
       " ('2017-08-13', 77.0),\n",
       " ('2017-08-14', 77.0),\n",
       " ('2017-08-15', 77.0),\n",
       " ('2017-08-16', 76.0),\n",
       " ('2017-08-17', 76.0),\n",
       " ('2017-08-18', 79.0)]"
      ]
     },
     "metadata": {},
     "execution_count": 52
    }
   ],
   "metadata": {}
  },
  {
   "cell_type": "code",
   "execution_count": 53,
   "source": [
    "busiest_station_df = pd.DataFrame(busiest_station, columns = ['date', 'temperature'])\r\n",
    "\r\n",
    "busiest_station_df.set_index('date', inplace = True)\r\n",
    "busiest_station_df"
   ],
   "outputs": [
    {
     "output_type": "execute_result",
     "data": {
      "text/plain": [
       "            temperature\n",
       "date                   \n",
       "2016-08-23         77.0\n",
       "2016-08-24         77.0\n",
       "2016-08-25         80.0\n",
       "2016-08-26         80.0\n",
       "2016-08-27         75.0\n",
       "...                 ...\n",
       "2017-08-14         77.0\n",
       "2017-08-15         77.0\n",
       "2017-08-16         76.0\n",
       "2017-08-17         76.0\n",
       "2017-08-18         79.0\n",
       "\n",
       "[352 rows x 1 columns]"
      ],
      "text/html": [
       "<div>\n",
       "<style scoped>\n",
       "    .dataframe tbody tr th:only-of-type {\n",
       "        vertical-align: middle;\n",
       "    }\n",
       "\n",
       "    .dataframe tbody tr th {\n",
       "        vertical-align: top;\n",
       "    }\n",
       "\n",
       "    .dataframe thead th {\n",
       "        text-align: right;\n",
       "    }\n",
       "</style>\n",
       "<table border=\"1\" class=\"dataframe\">\n",
       "  <thead>\n",
       "    <tr style=\"text-align: right;\">\n",
       "      <th></th>\n",
       "      <th>temperature</th>\n",
       "    </tr>\n",
       "    <tr>\n",
       "      <th>date</th>\n",
       "      <th></th>\n",
       "    </tr>\n",
       "  </thead>\n",
       "  <tbody>\n",
       "    <tr>\n",
       "      <th>2016-08-23</th>\n",
       "      <td>77.0</td>\n",
       "    </tr>\n",
       "    <tr>\n",
       "      <th>2016-08-24</th>\n",
       "      <td>77.0</td>\n",
       "    </tr>\n",
       "    <tr>\n",
       "      <th>2016-08-25</th>\n",
       "      <td>80.0</td>\n",
       "    </tr>\n",
       "    <tr>\n",
       "      <th>2016-08-26</th>\n",
       "      <td>80.0</td>\n",
       "    </tr>\n",
       "    <tr>\n",
       "      <th>2016-08-27</th>\n",
       "      <td>75.0</td>\n",
       "    </tr>\n",
       "    <tr>\n",
       "      <th>...</th>\n",
       "      <td>...</td>\n",
       "    </tr>\n",
       "    <tr>\n",
       "      <th>2017-08-14</th>\n",
       "      <td>77.0</td>\n",
       "    </tr>\n",
       "    <tr>\n",
       "      <th>2017-08-15</th>\n",
       "      <td>77.0</td>\n",
       "    </tr>\n",
       "    <tr>\n",
       "      <th>2017-08-16</th>\n",
       "      <td>76.0</td>\n",
       "    </tr>\n",
       "    <tr>\n",
       "      <th>2017-08-17</th>\n",
       "      <td>76.0</td>\n",
       "    </tr>\n",
       "    <tr>\n",
       "      <th>2017-08-18</th>\n",
       "      <td>79.0</td>\n",
       "    </tr>\n",
       "  </tbody>\n",
       "</table>\n",
       "<p>352 rows × 1 columns</p>\n",
       "</div>"
      ]
     },
     "metadata": {},
     "execution_count": 53
    }
   ],
   "metadata": {}
  },
  {
   "cell_type": "code",
   "execution_count": 59,
   "source": [
    "temperatures = [Measurement.date, Measurement.tobs]\r\n",
    "\r\n",
    "temperature_histogram = session.query(*temperatures).filter(Measurement.date >= '2016-08-23').filter(Measurement.station == 'USC00519281' ).all()\r\n",
    "temperature_histogram = pd.DataFrame(temperature_histogram)\r\n",
    "temperature_histogram.plot.hist(bins=12)\r\n",
    "\r\n",
    "plt.savefig('temperatures_histogram.png')\r\n",
    "plt.xlabel(\"temperature\")"
   ],
   "outputs": [
    {
     "output_type": "execute_result",
     "data": {
      "text/plain": [
       "Text(0.5, -1.340000000000014, 'temperature')"
      ]
     },
     "metadata": {},
     "execution_count": 59
    },
    {
     "output_type": "display_data",
     "data": {
      "text/plain": [
       "<Figure size 432x288 with 1 Axes>"
      ],
      "image/svg+xml": "<?xml version=\"1.0\" encoding=\"utf-8\" standalone=\"no\"?>\r\n<!DOCTYPE svg PUBLIC \"-//W3C//DTD SVG 1.1//EN\"\r\n  \"http://www.w3.org/Graphics/SVG/1.1/DTD/svg11.dtd\">\r\n<svg height=\"284.988625pt\" version=\"1.1\" viewBox=\"0 0 431.81425 284.988625\" width=\"431.81425pt\" xmlns=\"http://www.w3.org/2000/svg\" xmlns:xlink=\"http://www.w3.org/1999/xlink\">\r\n <metadata>\r\n  <rdf:RDF xmlns:cc=\"http://creativecommons.org/ns#\" xmlns:dc=\"http://purl.org/dc/elements/1.1/\" xmlns:rdf=\"http://www.w3.org/1999/02/22-rdf-syntax-ns#\">\r\n   <cc:Work>\r\n    <dc:type rdf:resource=\"http://purl.org/dc/dcmitype/StillImage\"/>\r\n    <dc:date>2021-08-23T14:19:54.530405</dc:date>\r\n    <dc:format>image/svg+xml</dc:format>\r\n    <dc:creator>\r\n     <cc:Agent>\r\n      <dc:title>Matplotlib v3.4.2, https://matplotlib.org/</dc:title>\r\n     </cc:Agent>\r\n    </dc:creator>\r\n   </cc:Work>\r\n  </rdf:RDF>\r\n </metadata>\r\n <defs>\r\n  <style type=\"text/css\">*{stroke-linecap:butt;stroke-linejoin:round;}</style>\r\n </defs>\r\n <g id=\"figure_1\">\r\n  <g id=\"patch_1\">\r\n   <path d=\"M 0 284.988625 \r\nL 431.81425 284.988625 \r\nL 431.81425 0 \r\nL 0 0 \r\nz\r\n\" style=\"fill:#f0f0f0;\"/>\r\n  </g>\r\n  <g id=\"axes_1\">\r\n   <g id=\"patch_2\">\r\n    <path d=\"M 48.77425 240.48 \r\nL 424.61425 240.48 \r\nL 424.61425 7.2 \r\nL 48.77425 7.2 \r\nz\r\n\" style=\"fill:#f0f0f0;\"/>\r\n   </g>\r\n   <g id=\"matplotlib.axis_1\">\r\n    <g id=\"xtick_1\">\r\n     <g id=\"line2d_1\">\r\n      <path clip-path=\"url(#pcdb38b1400)\" d=\"M 80.09425 240.48 \r\nL 80.09425 7.2 \r\n\" style=\"fill:none;stroke:#cbcbcb;\"/>\r\n     </g>\r\n     <g id=\"line2d_2\"/>\r\n     <g id=\"text_1\">\r\n      <!-- 60 -->\r\n      <g transform=\"translate(71.18675 254.617813)scale(0.14 -0.14)\">\r\n       <defs>\r\n        <path d=\"M 2113 2584 \r\nQ 1688 2584 1439 2293 \r\nQ 1191 2003 1191 1497 \r\nQ 1191 994 1439 701 \r\nQ 1688 409 2113 409 \r\nQ 2538 409 2786 701 \r\nQ 3034 994 3034 1497 \r\nQ 3034 2003 2786 2293 \r\nQ 2538 2584 2113 2584 \r\nz\r\nM 3366 4563 \r\nL 3366 3988 \r\nQ 3128 4100 2886 4159 \r\nQ 2644 4219 2406 4219 \r\nQ 1781 4219 1451 3797 \r\nQ 1122 3375 1075 2522 \r\nQ 1259 2794 1537 2939 \r\nQ 1816 3084 2150 3084 \r\nQ 2853 3084 3261 2657 \r\nQ 3669 2231 3669 1497 \r\nQ 3669 778 3244 343 \r\nQ 2819 -91 2113 -91 \r\nQ 1303 -91 875 529 \r\nQ 447 1150 447 2328 \r\nQ 447 3434 972 4092 \r\nQ 1497 4750 2381 4750 \r\nQ 2619 4750 2861 4703 \r\nQ 3103 4656 3366 4563 \r\nz\r\n\" id=\"DejaVuSans-36\" transform=\"scale(0.015625)\"/>\r\n        <path d=\"M 2034 4250 \r\nQ 1547 4250 1301 3770 \r\nQ 1056 3291 1056 2328 \r\nQ 1056 1369 1301 889 \r\nQ 1547 409 2034 409 \r\nQ 2525 409 2770 889 \r\nQ 3016 1369 3016 2328 \r\nQ 3016 3291 2770 3770 \r\nQ 2525 4250 2034 4250 \r\nz\r\nM 2034 4750 \r\nQ 2819 4750 3233 4129 \r\nQ 3647 3509 3647 2328 \r\nQ 3647 1150 3233 529 \r\nQ 2819 -91 2034 -91 \r\nQ 1250 -91 836 529 \r\nQ 422 1150 422 2328 \r\nQ 422 3509 836 4129 \r\nQ 1250 4750 2034 4750 \r\nz\r\n\" id=\"DejaVuSans-30\" transform=\"scale(0.015625)\"/>\r\n       </defs>\r\n       <use xlink:href=\"#DejaVuSans-36\"/>\r\n       <use x=\"63.623047\" xlink:href=\"#DejaVuSans-30\"/>\r\n      </g>\r\n     </g>\r\n    </g>\r\n    <g id=\"xtick_2\">\r\n     <g id=\"line2d_3\">\r\n      <path clip-path=\"url(#pcdb38b1400)\" d=\"M 151.276068 240.48 \r\nL 151.276068 7.2 \r\n\" style=\"fill:none;stroke:#cbcbcb;\"/>\r\n     </g>\r\n     <g id=\"line2d_4\"/>\r\n     <g id=\"text_2\">\r\n      <!-- 65 -->\r\n      <g transform=\"translate(142.368568 254.617813)scale(0.14 -0.14)\">\r\n       <defs>\r\n        <path d=\"M 691 4666 \r\nL 3169 4666 \r\nL 3169 4134 \r\nL 1269 4134 \r\nL 1269 2991 \r\nQ 1406 3038 1543 3061 \r\nQ 1681 3084 1819 3084 \r\nQ 2600 3084 3056 2656 \r\nQ 3513 2228 3513 1497 \r\nQ 3513 744 3044 326 \r\nQ 2575 -91 1722 -91 \r\nQ 1428 -91 1123 -41 \r\nQ 819 9 494 109 \r\nL 494 744 \r\nQ 775 591 1075 516 \r\nQ 1375 441 1709 441 \r\nQ 2250 441 2565 725 \r\nQ 2881 1009 2881 1497 \r\nQ 2881 1984 2565 2268 \r\nQ 2250 2553 1709 2553 \r\nQ 1456 2553 1204 2497 \r\nQ 953 2441 691 2322 \r\nL 691 4666 \r\nz\r\n\" id=\"DejaVuSans-35\" transform=\"scale(0.015625)\"/>\r\n       </defs>\r\n       <use xlink:href=\"#DejaVuSans-36\"/>\r\n       <use x=\"63.623047\" xlink:href=\"#DejaVuSans-35\"/>\r\n      </g>\r\n     </g>\r\n    </g>\r\n    <g id=\"xtick_3\">\r\n     <g id=\"line2d_5\">\r\n      <path clip-path=\"url(#pcdb38b1400)\" d=\"M 222.457886 240.48 \r\nL 222.457886 7.2 \r\n\" style=\"fill:none;stroke:#cbcbcb;\"/>\r\n     </g>\r\n     <g id=\"line2d_6\"/>\r\n     <g id=\"text_3\">\r\n      <!-- 70 -->\r\n      <g transform=\"translate(213.550386 254.617813)scale(0.14 -0.14)\">\r\n       <defs>\r\n        <path d=\"M 525 4666 \r\nL 3525 4666 \r\nL 3525 4397 \r\nL 1831 0 \r\nL 1172 0 \r\nL 2766 4134 \r\nL 525 4134 \r\nL 525 4666 \r\nz\r\n\" id=\"DejaVuSans-37\" transform=\"scale(0.015625)\"/>\r\n       </defs>\r\n       <use xlink:href=\"#DejaVuSans-37\"/>\r\n       <use x=\"63.623047\" xlink:href=\"#DejaVuSans-30\"/>\r\n      </g>\r\n     </g>\r\n    </g>\r\n    <g id=\"xtick_4\">\r\n     <g id=\"line2d_7\">\r\n      <path clip-path=\"url(#pcdb38b1400)\" d=\"M 293.639705 240.48 \r\nL 293.639705 7.2 \r\n\" style=\"fill:none;stroke:#cbcbcb;\"/>\r\n     </g>\r\n     <g id=\"line2d_8\"/>\r\n     <g id=\"text_4\">\r\n      <!-- 75 -->\r\n      <g transform=\"translate(284.732205 254.617813)scale(0.14 -0.14)\">\r\n       <use xlink:href=\"#DejaVuSans-37\"/>\r\n       <use x=\"63.623047\" xlink:href=\"#DejaVuSans-35\"/>\r\n      </g>\r\n     </g>\r\n    </g>\r\n    <g id=\"xtick_5\">\r\n     <g id=\"line2d_9\">\r\n      <path clip-path=\"url(#pcdb38b1400)\" d=\"M 364.821523 240.48 \r\nL 364.821523 7.2 \r\n\" style=\"fill:none;stroke:#cbcbcb;\"/>\r\n     </g>\r\n     <g id=\"line2d_10\"/>\r\n     <g id=\"text_5\">\r\n      <!-- 80 -->\r\n      <g transform=\"translate(355.914023 254.617813)scale(0.14 -0.14)\">\r\n       <defs>\r\n        <path d=\"M 2034 2216 \r\nQ 1584 2216 1326 1975 \r\nQ 1069 1734 1069 1313 \r\nQ 1069 891 1326 650 \r\nQ 1584 409 2034 409 \r\nQ 2484 409 2743 651 \r\nQ 3003 894 3003 1313 \r\nQ 3003 1734 2745 1975 \r\nQ 2488 2216 2034 2216 \r\nz\r\nM 1403 2484 \r\nQ 997 2584 770 2862 \r\nQ 544 3141 544 3541 \r\nQ 544 4100 942 4425 \r\nQ 1341 4750 2034 4750 \r\nQ 2731 4750 3128 4425 \r\nQ 3525 4100 3525 3541 \r\nQ 3525 3141 3298 2862 \r\nQ 3072 2584 2669 2484 \r\nQ 3125 2378 3379 2068 \r\nQ 3634 1759 3634 1313 \r\nQ 3634 634 3220 271 \r\nQ 2806 -91 2034 -91 \r\nQ 1263 -91 848 271 \r\nQ 434 634 434 1313 \r\nQ 434 1759 690 2068 \r\nQ 947 2378 1403 2484 \r\nz\r\nM 1172 3481 \r\nQ 1172 3119 1398 2916 \r\nQ 1625 2713 2034 2713 \r\nQ 2441 2713 2670 2916 \r\nQ 2900 3119 2900 3481 \r\nQ 2900 3844 2670 4047 \r\nQ 2441 4250 2034 4250 \r\nQ 1625 4250 1398 4047 \r\nQ 1172 3844 1172 3481 \r\nz\r\n\" id=\"DejaVuSans-38\" transform=\"scale(0.015625)\"/>\r\n       </defs>\r\n       <use xlink:href=\"#DejaVuSans-38\"/>\r\n       <use x=\"63.623047\" xlink:href=\"#DejaVuSans-30\"/>\r\n      </g>\r\n     </g>\r\n    </g>\r\n    <g id=\"text_6\">\r\n     <!-- temperature -->\r\n     <g transform=\"translate(183.898938 274.29475)scale(0.168 -0.168)\">\r\n      <defs>\r\n       <path d=\"M 1172 4494 \r\nL 1172 3500 \r\nL 2356 3500 \r\nL 2356 3053 \r\nL 1172 3053 \r\nL 1172 1153 \r\nQ 1172 725 1289 603 \r\nQ 1406 481 1766 481 \r\nL 2356 481 \r\nL 2356 0 \r\nL 1766 0 \r\nQ 1100 0 847 248 \r\nQ 594 497 594 1153 \r\nL 594 3053 \r\nL 172 3053 \r\nL 172 3500 \r\nL 594 3500 \r\nL 594 4494 \r\nL 1172 4494 \r\nz\r\n\" id=\"DejaVuSans-74\" transform=\"scale(0.015625)\"/>\r\n       <path d=\"M 3597 1894 \r\nL 3597 1613 \r\nL 953 1613 \r\nQ 991 1019 1311 708 \r\nQ 1631 397 2203 397 \r\nQ 2534 397 2845 478 \r\nQ 3156 559 3463 722 \r\nL 3463 178 \r\nQ 3153 47 2828 -22 \r\nQ 2503 -91 2169 -91 \r\nQ 1331 -91 842 396 \r\nQ 353 884 353 1716 \r\nQ 353 2575 817 3079 \r\nQ 1281 3584 2069 3584 \r\nQ 2775 3584 3186 3129 \r\nQ 3597 2675 3597 1894 \r\nz\r\nM 3022 2063 \r\nQ 3016 2534 2758 2815 \r\nQ 2500 3097 2075 3097 \r\nQ 1594 3097 1305 2825 \r\nQ 1016 2553 972 2059 \r\nL 3022 2063 \r\nz\r\n\" id=\"DejaVuSans-65\" transform=\"scale(0.015625)\"/>\r\n       <path d=\"M 3328 2828 \r\nQ 3544 3216 3844 3400 \r\nQ 4144 3584 4550 3584 \r\nQ 5097 3584 5394 3201 \r\nQ 5691 2819 5691 2113 \r\nL 5691 0 \r\nL 5113 0 \r\nL 5113 2094 \r\nQ 5113 2597 4934 2840 \r\nQ 4756 3084 4391 3084 \r\nQ 3944 3084 3684 2787 \r\nQ 3425 2491 3425 1978 \r\nL 3425 0 \r\nL 2847 0 \r\nL 2847 2094 \r\nQ 2847 2600 2669 2842 \r\nQ 2491 3084 2119 3084 \r\nQ 1678 3084 1418 2786 \r\nQ 1159 2488 1159 1978 \r\nL 1159 0 \r\nL 581 0 \r\nL 581 3500 \r\nL 1159 3500 \r\nL 1159 2956 \r\nQ 1356 3278 1631 3431 \r\nQ 1906 3584 2284 3584 \r\nQ 2666 3584 2933 3390 \r\nQ 3200 3197 3328 2828 \r\nz\r\n\" id=\"DejaVuSans-6d\" transform=\"scale(0.015625)\"/>\r\n       <path d=\"M 1159 525 \r\nL 1159 -1331 \r\nL 581 -1331 \r\nL 581 3500 \r\nL 1159 3500 \r\nL 1159 2969 \r\nQ 1341 3281 1617 3432 \r\nQ 1894 3584 2278 3584 \r\nQ 2916 3584 3314 3078 \r\nQ 3713 2572 3713 1747 \r\nQ 3713 922 3314 415 \r\nQ 2916 -91 2278 -91 \r\nQ 1894 -91 1617 61 \r\nQ 1341 213 1159 525 \r\nz\r\nM 3116 1747 \r\nQ 3116 2381 2855 2742 \r\nQ 2594 3103 2138 3103 \r\nQ 1681 3103 1420 2742 \r\nQ 1159 2381 1159 1747 \r\nQ 1159 1113 1420 752 \r\nQ 1681 391 2138 391 \r\nQ 2594 391 2855 752 \r\nQ 3116 1113 3116 1747 \r\nz\r\n\" id=\"DejaVuSans-70\" transform=\"scale(0.015625)\"/>\r\n       <path d=\"M 2631 2963 \r\nQ 2534 3019 2420 3045 \r\nQ 2306 3072 2169 3072 \r\nQ 1681 3072 1420 2755 \r\nQ 1159 2438 1159 1844 \r\nL 1159 0 \r\nL 581 0 \r\nL 581 3500 \r\nL 1159 3500 \r\nL 1159 2956 \r\nQ 1341 3275 1631 3429 \r\nQ 1922 3584 2338 3584 \r\nQ 2397 3584 2469 3576 \r\nQ 2541 3569 2628 3553 \r\nL 2631 2963 \r\nz\r\n\" id=\"DejaVuSans-72\" transform=\"scale(0.015625)\"/>\r\n       <path d=\"M 2194 1759 \r\nQ 1497 1759 1228 1600 \r\nQ 959 1441 959 1056 \r\nQ 959 750 1161 570 \r\nQ 1363 391 1709 391 \r\nQ 2188 391 2477 730 \r\nQ 2766 1069 2766 1631 \r\nL 2766 1759 \r\nL 2194 1759 \r\nz\r\nM 3341 1997 \r\nL 3341 0 \r\nL 2766 0 \r\nL 2766 531 \r\nQ 2569 213 2275 61 \r\nQ 1981 -91 1556 -91 \r\nQ 1019 -91 701 211 \r\nQ 384 513 384 1019 \r\nQ 384 1609 779 1909 \r\nQ 1175 2209 1959 2209 \r\nL 2766 2209 \r\nL 2766 2266 \r\nQ 2766 2663 2505 2880 \r\nQ 2244 3097 1772 3097 \r\nQ 1472 3097 1187 3025 \r\nQ 903 2953 641 2809 \r\nL 641 3341 \r\nQ 956 3463 1253 3523 \r\nQ 1550 3584 1831 3584 \r\nQ 2591 3584 2966 3190 \r\nQ 3341 2797 3341 1997 \r\nz\r\n\" id=\"DejaVuSans-61\" transform=\"scale(0.015625)\"/>\r\n       <path d=\"M 544 1381 \r\nL 544 3500 \r\nL 1119 3500 \r\nL 1119 1403 \r\nQ 1119 906 1312 657 \r\nQ 1506 409 1894 409 \r\nQ 2359 409 2629 706 \r\nQ 2900 1003 2900 1516 \r\nL 2900 3500 \r\nL 3475 3500 \r\nL 3475 0 \r\nL 2900 0 \r\nL 2900 538 \r\nQ 2691 219 2414 64 \r\nQ 2138 -91 1772 -91 \r\nQ 1169 -91 856 284 \r\nQ 544 659 544 1381 \r\nz\r\nM 1991 3584 \r\nL 1991 3584 \r\nz\r\n\" id=\"DejaVuSans-75\" transform=\"scale(0.015625)\"/>\r\n      </defs>\r\n      <use xlink:href=\"#DejaVuSans-74\"/>\r\n      <use x=\"39.208984\" xlink:href=\"#DejaVuSans-65\"/>\r\n      <use x=\"100.732422\" xlink:href=\"#DejaVuSans-6d\"/>\r\n      <use x=\"198.144531\" xlink:href=\"#DejaVuSans-70\"/>\r\n      <use x=\"261.621094\" xlink:href=\"#DejaVuSans-65\"/>\r\n      <use x=\"323.144531\" xlink:href=\"#DejaVuSans-72\"/>\r\n      <use x=\"364.257812\" xlink:href=\"#DejaVuSans-61\"/>\r\n      <use x=\"425.537109\" xlink:href=\"#DejaVuSans-74\"/>\r\n      <use x=\"464.746094\" xlink:href=\"#DejaVuSans-75\"/>\r\n      <use x=\"528.125\" xlink:href=\"#DejaVuSans-72\"/>\r\n      <use x=\"566.988281\" xlink:href=\"#DejaVuSans-65\"/>\r\n     </g>\r\n    </g>\r\n   </g>\r\n   <g id=\"matplotlib.axis_2\">\r\n    <g id=\"ytick_1\">\r\n     <g id=\"line2d_11\">\r\n      <path clip-path=\"url(#pcdb38b1400)\" d=\"M 48.77425 240.48 \r\nL 424.61425 240.48 \r\n\" style=\"fill:none;stroke:#cbcbcb;\"/>\r\n     </g>\r\n     <g id=\"line2d_12\"/>\r\n     <g id=\"text_7\">\r\n      <!-- 0 -->\r\n      <g transform=\"translate(36.36675 245.798906)scale(0.14 -0.14)\">\r\n       <use xlink:href=\"#DejaVuSans-30\"/>\r\n      </g>\r\n     </g>\r\n    </g>\r\n    <g id=\"ytick_2\">\r\n     <g id=\"line2d_13\">\r\n      <path clip-path=\"url(#pcdb38b1400)\" d=\"M 48.77425 206.817662 \r\nL 424.61425 206.817662 \r\n\" style=\"fill:none;stroke:#cbcbcb;\"/>\r\n     </g>\r\n     <g id=\"line2d_14\"/>\r\n     <g id=\"text_8\">\r\n      <!-- 10 -->\r\n      <g transform=\"translate(27.45925 212.136569)scale(0.14 -0.14)\">\r\n       <defs>\r\n        <path d=\"M 794 531 \r\nL 1825 531 \r\nL 1825 4091 \r\nL 703 3866 \r\nL 703 4441 \r\nL 1819 4666 \r\nL 2450 4666 \r\nL 2450 531 \r\nL 3481 531 \r\nL 3481 0 \r\nL 794 0 \r\nL 794 531 \r\nz\r\n\" id=\"DejaVuSans-31\" transform=\"scale(0.015625)\"/>\r\n       </defs>\r\n       <use xlink:href=\"#DejaVuSans-31\"/>\r\n       <use x=\"63.623047\" xlink:href=\"#DejaVuSans-30\"/>\r\n      </g>\r\n     </g>\r\n    </g>\r\n    <g id=\"ytick_3\">\r\n     <g id=\"line2d_15\">\r\n      <path clip-path=\"url(#pcdb38b1400)\" d=\"M 48.77425 173.155325 \r\nL 424.61425 173.155325 \r\n\" style=\"fill:none;stroke:#cbcbcb;\"/>\r\n     </g>\r\n     <g id=\"line2d_16\"/>\r\n     <g id=\"text_9\">\r\n      <!-- 20 -->\r\n      <g transform=\"translate(27.45925 178.474231)scale(0.14 -0.14)\">\r\n       <defs>\r\n        <path d=\"M 1228 531 \r\nL 3431 531 \r\nL 3431 0 \r\nL 469 0 \r\nL 469 531 \r\nQ 828 903 1448 1529 \r\nQ 2069 2156 2228 2338 \r\nQ 2531 2678 2651 2914 \r\nQ 2772 3150 2772 3378 \r\nQ 2772 3750 2511 3984 \r\nQ 2250 4219 1831 4219 \r\nQ 1534 4219 1204 4116 \r\nQ 875 4013 500 3803 \r\nL 500 4441 \r\nQ 881 4594 1212 4672 \r\nQ 1544 4750 1819 4750 \r\nQ 2544 4750 2975 4387 \r\nQ 3406 4025 3406 3419 \r\nQ 3406 3131 3298 2873 \r\nQ 3191 2616 2906 2266 \r\nQ 2828 2175 2409 1742 \r\nQ 1991 1309 1228 531 \r\nz\r\n\" id=\"DejaVuSans-32\" transform=\"scale(0.015625)\"/>\r\n       </defs>\r\n       <use xlink:href=\"#DejaVuSans-32\"/>\r\n       <use x=\"63.623047\" xlink:href=\"#DejaVuSans-30\"/>\r\n      </g>\r\n     </g>\r\n    </g>\r\n    <g id=\"ytick_4\">\r\n     <g id=\"line2d_17\">\r\n      <path clip-path=\"url(#pcdb38b1400)\" d=\"M 48.77425 139.492987 \r\nL 424.61425 139.492987 \r\n\" style=\"fill:none;stroke:#cbcbcb;\"/>\r\n     </g>\r\n     <g id=\"line2d_18\"/>\r\n     <g id=\"text_10\">\r\n      <!-- 30 -->\r\n      <g transform=\"translate(27.45925 144.811893)scale(0.14 -0.14)\">\r\n       <defs>\r\n        <path d=\"M 2597 2516 \r\nQ 3050 2419 3304 2112 \r\nQ 3559 1806 3559 1356 \r\nQ 3559 666 3084 287 \r\nQ 2609 -91 1734 -91 \r\nQ 1441 -91 1130 -33 \r\nQ 819 25 488 141 \r\nL 488 750 \r\nQ 750 597 1062 519 \r\nQ 1375 441 1716 441 \r\nQ 2309 441 2620 675 \r\nQ 2931 909 2931 1356 \r\nQ 2931 1769 2642 2001 \r\nQ 2353 2234 1838 2234 \r\nL 1294 2234 \r\nL 1294 2753 \r\nL 1863 2753 \r\nQ 2328 2753 2575 2939 \r\nQ 2822 3125 2822 3475 \r\nQ 2822 3834 2567 4026 \r\nQ 2313 4219 1838 4219 \r\nQ 1578 4219 1281 4162 \r\nQ 984 4106 628 3988 \r\nL 628 4550 \r\nQ 988 4650 1302 4700 \r\nQ 1616 4750 1894 4750 \r\nQ 2613 4750 3031 4423 \r\nQ 3450 4097 3450 3541 \r\nQ 3450 3153 3228 2886 \r\nQ 3006 2619 2597 2516 \r\nz\r\n\" id=\"DejaVuSans-33\" transform=\"scale(0.015625)\"/>\r\n       </defs>\r\n       <use xlink:href=\"#DejaVuSans-33\"/>\r\n       <use x=\"63.623047\" xlink:href=\"#DejaVuSans-30\"/>\r\n      </g>\r\n     </g>\r\n    </g>\r\n    <g id=\"ytick_5\">\r\n     <g id=\"line2d_19\">\r\n      <path clip-path=\"url(#pcdb38b1400)\" d=\"M 48.77425 105.830649 \r\nL 424.61425 105.830649 \r\n\" style=\"fill:none;stroke:#cbcbcb;\"/>\r\n     </g>\r\n     <g id=\"line2d_20\"/>\r\n     <g id=\"text_11\">\r\n      <!-- 40 -->\r\n      <g transform=\"translate(27.45925 111.149556)scale(0.14 -0.14)\">\r\n       <defs>\r\n        <path d=\"M 2419 4116 \r\nL 825 1625 \r\nL 2419 1625 \r\nL 2419 4116 \r\nz\r\nM 2253 4666 \r\nL 3047 4666 \r\nL 3047 1625 \r\nL 3713 1625 \r\nL 3713 1100 \r\nL 3047 1100 \r\nL 3047 0 \r\nL 2419 0 \r\nL 2419 1100 \r\nL 313 1100 \r\nL 313 1709 \r\nL 2253 4666 \r\nz\r\n\" id=\"DejaVuSans-34\" transform=\"scale(0.015625)\"/>\r\n       </defs>\r\n       <use xlink:href=\"#DejaVuSans-34\"/>\r\n       <use x=\"63.623047\" xlink:href=\"#DejaVuSans-30\"/>\r\n      </g>\r\n     </g>\r\n    </g>\r\n    <g id=\"ytick_6\">\r\n     <g id=\"line2d_21\">\r\n      <path clip-path=\"url(#pcdb38b1400)\" d=\"M 48.77425 72.168312 \r\nL 424.61425 72.168312 \r\n\" style=\"fill:none;stroke:#cbcbcb;\"/>\r\n     </g>\r\n     <g id=\"line2d_22\"/>\r\n     <g id=\"text_12\">\r\n      <!-- 50 -->\r\n      <g transform=\"translate(27.45925 77.487218)scale(0.14 -0.14)\">\r\n       <use xlink:href=\"#DejaVuSans-35\"/>\r\n       <use x=\"63.623047\" xlink:href=\"#DejaVuSans-30\"/>\r\n      </g>\r\n     </g>\r\n    </g>\r\n    <g id=\"ytick_7\">\r\n     <g id=\"line2d_23\">\r\n      <path clip-path=\"url(#pcdb38b1400)\" d=\"M 48.77425 38.505974 \r\nL 424.61425 38.505974 \r\n\" style=\"fill:none;stroke:#cbcbcb;\"/>\r\n     </g>\r\n     <g id=\"line2d_24\"/>\r\n     <g id=\"text_13\">\r\n      <!-- 60 -->\r\n      <g transform=\"translate(27.45925 43.82488)scale(0.14 -0.14)\">\r\n       <use xlink:href=\"#DejaVuSans-36\"/>\r\n       <use x=\"63.623047\" xlink:href=\"#DejaVuSans-30\"/>\r\n      </g>\r\n     </g>\r\n    </g>\r\n    <g id=\"text_14\">\r\n     <!-- Frequency -->\r\n     <g transform=\"translate(19.965375 167.233875)rotate(-90)scale(0.168 -0.168)\">\r\n      <defs>\r\n       <path d=\"M 628 4666 \r\nL 3309 4666 \r\nL 3309 4134 \r\nL 1259 4134 \r\nL 1259 2759 \r\nL 3109 2759 \r\nL 3109 2228 \r\nL 1259 2228 \r\nL 1259 0 \r\nL 628 0 \r\nL 628 4666 \r\nz\r\n\" id=\"DejaVuSans-46\" transform=\"scale(0.015625)\"/>\r\n       <path d=\"M 947 1747 \r\nQ 947 1113 1208 752 \r\nQ 1469 391 1925 391 \r\nQ 2381 391 2643 752 \r\nQ 2906 1113 2906 1747 \r\nQ 2906 2381 2643 2742 \r\nQ 2381 3103 1925 3103 \r\nQ 1469 3103 1208 2742 \r\nQ 947 2381 947 1747 \r\nz\r\nM 2906 525 \r\nQ 2725 213 2448 61 \r\nQ 2172 -91 1784 -91 \r\nQ 1150 -91 751 415 \r\nQ 353 922 353 1747 \r\nQ 353 2572 751 3078 \r\nQ 1150 3584 1784 3584 \r\nQ 2172 3584 2448 3432 \r\nQ 2725 3281 2906 2969 \r\nL 2906 3500 \r\nL 3481 3500 \r\nL 3481 -1331 \r\nL 2906 -1331 \r\nL 2906 525 \r\nz\r\n\" id=\"DejaVuSans-71\" transform=\"scale(0.015625)\"/>\r\n       <path d=\"M 3513 2113 \r\nL 3513 0 \r\nL 2938 0 \r\nL 2938 2094 \r\nQ 2938 2591 2744 2837 \r\nQ 2550 3084 2163 3084 \r\nQ 1697 3084 1428 2787 \r\nQ 1159 2491 1159 1978 \r\nL 1159 0 \r\nL 581 0 \r\nL 581 3500 \r\nL 1159 3500 \r\nL 1159 2956 \r\nQ 1366 3272 1645 3428 \r\nQ 1925 3584 2291 3584 \r\nQ 2894 3584 3203 3211 \r\nQ 3513 2838 3513 2113 \r\nz\r\n\" id=\"DejaVuSans-6e\" transform=\"scale(0.015625)\"/>\r\n       <path d=\"M 3122 3366 \r\nL 3122 2828 \r\nQ 2878 2963 2633 3030 \r\nQ 2388 3097 2138 3097 \r\nQ 1578 3097 1268 2742 \r\nQ 959 2388 959 1747 \r\nQ 959 1106 1268 751 \r\nQ 1578 397 2138 397 \r\nQ 2388 397 2633 464 \r\nQ 2878 531 3122 666 \r\nL 3122 134 \r\nQ 2881 22 2623 -34 \r\nQ 2366 -91 2075 -91 \r\nQ 1284 -91 818 406 \r\nQ 353 903 353 1747 \r\nQ 353 2603 823 3093 \r\nQ 1294 3584 2113 3584 \r\nQ 2378 3584 2631 3529 \r\nQ 2884 3475 3122 3366 \r\nz\r\n\" id=\"DejaVuSans-63\" transform=\"scale(0.015625)\"/>\r\n       <path d=\"M 2059 -325 \r\nQ 1816 -950 1584 -1140 \r\nQ 1353 -1331 966 -1331 \r\nL 506 -1331 \r\nL 506 -850 \r\nL 844 -850 \r\nQ 1081 -850 1212 -737 \r\nQ 1344 -625 1503 -206 \r\nL 1606 56 \r\nL 191 3500 \r\nL 800 3500 \r\nL 1894 763 \r\nL 2988 3500 \r\nL 3597 3500 \r\nL 2059 -325 \r\nz\r\n\" id=\"DejaVuSans-79\" transform=\"scale(0.015625)\"/>\r\n      </defs>\r\n      <use xlink:href=\"#DejaVuSans-46\"/>\r\n      <use x=\"50.269531\" xlink:href=\"#DejaVuSans-72\"/>\r\n      <use x=\"89.132812\" xlink:href=\"#DejaVuSans-65\"/>\r\n      <use x=\"150.65625\" xlink:href=\"#DejaVuSans-71\"/>\r\n      <use x=\"214.132812\" xlink:href=\"#DejaVuSans-75\"/>\r\n      <use x=\"277.511719\" xlink:href=\"#DejaVuSans-65\"/>\r\n      <use x=\"339.035156\" xlink:href=\"#DejaVuSans-6e\"/>\r\n      <use x=\"402.414062\" xlink:href=\"#DejaVuSans-63\"/>\r\n      <use x=\"457.394531\" xlink:href=\"#DejaVuSans-79\"/>\r\n     </g>\r\n    </g>\r\n   </g>\r\n   <g id=\"patch_3\">\r\n    <path clip-path=\"url(#pcdb38b1400)\" d=\"M 65.857886 240.48 \r\nL 94.330614 240.48 \r\nL 94.330614 223.648831 \r\nL 65.857886 223.648831 \r\nz\r\n\" style=\"fill:#008fd5;\"/>\r\n   </g>\r\n   <g id=\"patch_4\">\r\n    <path clip-path=\"url(#pcdb38b1400)\" d=\"M 94.330614 240.48 \r\nL 122.803341 240.48 \r\nL 122.803341 216.916364 \r\nL 94.330614 216.916364 \r\nz\r\n\" style=\"fill:#008fd5;\"/>\r\n   </g>\r\n   <g id=\"patch_5\">\r\n    <path clip-path=\"url(#pcdb38b1400)\" d=\"M 122.803341 240.48 \r\nL 151.276068 240.48 \r\nL 151.276068 216.916364 \r\nL 122.803341 216.916364 \r\nz\r\n\" style=\"fill:#008fd5;\"/>\r\n   </g>\r\n   <g id=\"patch_6\">\r\n    <path clip-path=\"url(#pcdb38b1400)\" d=\"M 151.276068 240.48 \r\nL 179.748795 240.48 \r\nL 179.748795 200.085195 \r\nL 151.276068 200.085195 \r\nz\r\n\" style=\"fill:#008fd5;\"/>\r\n   </g>\r\n   <g id=\"patch_7\">\r\n    <path clip-path=\"url(#pcdb38b1400)\" d=\"M 179.748795 240.48 \r\nL 208.221523 240.48 \r\nL 208.221523 149.591688 \r\nL 179.748795 149.591688 \r\nz\r\n\" style=\"fill:#008fd5;\"/>\r\n   </g>\r\n   <g id=\"patch_8\">\r\n    <path clip-path=\"url(#pcdb38b1400)\" d=\"M 208.221523 240.48 \r\nL 236.69425 240.48 \r\nL 236.69425 102.464416 \r\nL 208.221523 102.464416 \r\nz\r\n\" style=\"fill:#008fd5;\"/>\r\n   </g>\r\n   <g id=\"patch_9\">\r\n    <path clip-path=\"url(#pcdb38b1400)\" d=\"M 236.69425 240.48 \r\nL 265.166977 240.48 \r\nL 265.166977 105.830649 \r\nL 236.69425 105.830649 \r\nz\r\n\" style=\"fill:#008fd5;\"/>\r\n   </g>\r\n   <g id=\"patch_10\">\r\n    <path clip-path=\"url(#pcdb38b1400)\" d=\"M 265.166977 240.48 \r\nL 293.639705 240.48 \r\nL 293.639705 48.604675 \r\nL 265.166977 48.604675 \r\nz\r\n\" style=\"fill:#008fd5;\"/>\r\n   </g>\r\n   <g id=\"patch_11\">\r\n    <path clip-path=\"url(#pcdb38b1400)\" d=\"M 293.639705 240.48 \r\nL 322.112432 240.48 \r\nL 322.112432 18.308571 \r\nL 293.639705 18.308571 \r\nz\r\n\" style=\"fill:#008fd5;\"/>\r\n   </g>\r\n   <g id=\"patch_12\">\r\n    <path clip-path=\"url(#pcdb38b1400)\" d=\"M 322.112432 240.48 \r\nL 350.585159 240.48 \r\nL 350.585159 62.06961 \r\nL 322.112432 62.06961 \r\nz\r\n\" style=\"fill:#008fd5;\"/>\r\n   </g>\r\n   <g id=\"patch_13\">\r\n    <path clip-path=\"url(#pcdb38b1400)\" d=\"M 350.585159 240.48 \r\nL 379.057886 240.48 \r\nL 379.057886 142.859221 \r\nL 350.585159 142.859221 \r\nz\r\n\" style=\"fill:#008fd5;\"/>\r\n   </g>\r\n   <g id=\"patch_14\">\r\n    <path clip-path=\"url(#pcdb38b1400)\" d=\"M 379.057886 240.48 \r\nL 407.530614 240.48 \r\nL 407.530614 213.55013 \r\nL 379.057886 213.55013 \r\nz\r\n\" style=\"fill:#008fd5;\"/>\r\n   </g>\r\n   <g id=\"patch_15\">\r\n    <path d=\"M 48.77425 240.48 \r\nL 48.77425 7.2 \r\n\" style=\"fill:none;stroke:#f0f0f0;stroke-linecap:square;stroke-linejoin:miter;stroke-width:3;\"/>\r\n   </g>\r\n   <g id=\"patch_16\">\r\n    <path d=\"M 424.61425 240.48 \r\nL 424.61425 7.2 \r\n\" style=\"fill:none;stroke:#f0f0f0;stroke-linecap:square;stroke-linejoin:miter;stroke-width:3;\"/>\r\n   </g>\r\n   <g id=\"patch_17\">\r\n    <path d=\"M 48.77425 240.48 \r\nL 424.61425 240.48 \r\n\" style=\"fill:none;stroke:#f0f0f0;stroke-linecap:square;stroke-linejoin:miter;stroke-width:3;\"/>\r\n   </g>\r\n   <g id=\"patch_18\">\r\n    <path d=\"M 48.77425 7.2 \r\nL 424.61425 7.2 \r\n\" style=\"fill:none;stroke:#f0f0f0;stroke-linecap:square;stroke-linejoin:miter;stroke-width:3;\"/>\r\n   </g>\r\n   <g id=\"legend_1\">\r\n    <g id=\"patch_19\">\r\n     <path d=\"M 361.10675 38.949375 \r\nL 414.81425 38.949375 \r\nQ 417.61425 38.949375 417.61425 36.149375 \r\nL 417.61425 17 \r\nQ 417.61425 14.2 414.81425 14.2 \r\nL 361.10675 14.2 \r\nQ 358.30675 14.2 358.30675 17 \r\nL 358.30675 36.149375 \r\nQ 358.30675 38.949375 361.10675 38.949375 \r\nz\r\n\" style=\"fill:#f0f0f0;opacity:0.8;stroke:#cccccc;stroke-linejoin:miter;stroke-width:0.5;\"/>\r\n    </g>\r\n    <g id=\"patch_20\">\r\n     <path d=\"M 363.90675 30.437812 \r\nL 391.90675 30.437812 \r\nL 391.90675 20.637812 \r\nL 363.90675 20.637812 \r\nz\r\n\" style=\"fill:#008fd5;\"/>\r\n    </g>\r\n    <g id=\"text_15\">\r\n     <!-- 1 -->\r\n     <g transform=\"translate(403.10675 30.437812)scale(0.14 -0.14)\">\r\n      <use xlink:href=\"#DejaVuSans-31\"/>\r\n     </g>\r\n    </g>\r\n   </g>\r\n  </g>\r\n </g>\r\n <defs>\r\n  <clipPath id=\"pcdb38b1400\">\r\n   <rect height=\"233.28\" width=\"375.84\" x=\"48.77425\" y=\"7.2\"/>\r\n  </clipPath>\r\n </defs>\r\n</svg>\r\n",
      "image/png": "[encoded data removed]"
     },
     "metadata": {}
    }
   ],
   "metadata": {}
  },
  {
   "cell_type": "markdown",
   "source": [
    "## Bonus Challenge Assignment"
   ],
   "metadata": {}
  },
  {
   "cell_type": "code",
   "execution_count": null,
   "source": [
    "# This function called `calc_temps` will accept start date and end date in the format '%Y-%m-%d' \r\n",
    "# and return the minimum, average, and maximum temperatures for that range of dates\r\n",
    "def calc_temps(start_date, end_date):\r\n",
    "    \"\"\"TMIN, TAVG, and TMAX for a list of dates.\r\n",
    "    \r\n",
    "    Args:\r\n",
    "        start_date (string): A date string in the format %Y-%m-%d\r\n",
    "        end_date (string): A date string in the format %Y-%m-%d\r\n",
    "        \r\n",
    "    Returns:\r\n",
    "        TMIN, TAVE, and TMAX\r\n",
    "    \"\"\"\r\n",
    "    \r\n",
    "    return session.query(func.min(Measurement.tobs), func.avg(Measurement.tobs), func.max(Measurement.tobs)).\\\r\n",
    "        filter(Measurement.date >= start_date).filter(Measurement.date <= end_date).all()\r\n",
    "\r\n",
    "# function usage example\r\n",
    "print(calc_temps('2012-02-28', '2012-03-05'))"
   ],
   "outputs": [],
   "metadata": {}
  },
  {
   "cell_type": "code",
   "execution_count": null,
   "source": [
    "# Use your previous function `calc_temps` to calculate the tmin, tavg, and tmax \r\n",
    "# for your trip using the previous year's data for those same dates.\r\n"
   ],
   "outputs": [],
   "metadata": {}
  },
  {
   "cell_type": "code",
   "execution_count": null,
   "source": [
    "# Plot the results from your previous query as a bar chart. \r\n",
    "# Use \"Trip Avg Temp\" as your Title\r\n",
    "# Use the average temperature for the y value\r\n",
    "# Use the peak-to-peak (tmax-tmin) value as the y error bar (yerr)\r\n"
   ],
   "outputs": [],
   "metadata": {}
  },
  {
   "cell_type": "code",
   "execution_count": null,
   "source": [
    "# Calculate the total amount of rainfall per weather station for your trip dates using the previous year's matching dates.\r\n",
    "# Sort this in descending order by precipitation amount and list the station, name, latitude, longitude, and elevation\r\n",
    "\r\n"
   ],
   "outputs": [],
   "metadata": {}
  },
  {
   "cell_type": "code",
   "execution_count": null,
   "source": [
    "# Create a query that will calculate the daily normals \r\n",
    "# (i.e. the averages for tmin, tmax, and tavg for all historic data matching a specific month and day)\r\n",
    "\r\n",
    "def daily_normals(date):\r\n",
    "    \"\"\"Daily Normals.\r\n",
    "    \r\n",
    "    Args:\r\n",
    "        date (str): A date string in the format '%m-%d'\r\n",
    "        \r\n",
    "    Returns:\r\n",
    "        A list of tuples containing the daily normals, tmin, tavg, and tmax\r\n",
    "    \r\n",
    "    \"\"\"\r\n",
    "    \r\n",
    "    sel = [func.min(Measurement.tobs), func.avg(Measurement.tobs), func.max(Measurement.tobs)]\r\n",
    "    return session.query(*sel).filter(func.strftime(\"%m-%d\", Measurement.date) == date).all()\r\n",
    "    \r\n",
    "daily_normals(\"01-01\")"
   ],
   "outputs": [],
   "metadata": {}
  },
  {
   "cell_type": "code",
   "execution_count": null,
   "source": [
    "# calculate the daily normals for your trip\n",
    "# push each tuple of calculations into a list called `normals`\n",
    "\n",
    "# Set the start and end date of the trip\n",
    "\n",
    "# Use the start and end date to create a range of dates\n",
    "\n",
    "# Stip off the year and save a list of %m-%d strings\n",
    "\n",
    "# Loop through the list of %m-%d strings and calculate the normals for each date\n"
   ],
   "outputs": [],
   "metadata": {}
  },
  {
   "cell_type": "code",
   "execution_count": null,
   "source": [
    "# Load the previous query results into a Pandas DataFrame and add the `trip_dates` range as the `date` index\n"
   ],
   "outputs": [],
   "metadata": {}
  },
  {
   "cell_type": "code",
   "execution_count": null,
   "source": [
    "# Plot the daily normals as an area plot with `stacked=False`\n"
   ],
   "outputs": [],
   "metadata": {}
  }
 ],
 "metadata": {
  "kernel_info": {
   "name": "python3"
  },
  "kernelspec": {
   "name": "python3",
   "display_name": "Python 3.9.6 64-bit"
  },
  "language_info": {
   "codemirror_mode": {
    "name": "ipython",
    "version": 3
   },
   "file_extension": ".py",
   "mimetype": "text/x-python",
   "name": "python",
   "nbconvert_exporter": "python",
   "pygments_lexer": "ipython3",
   "version": "3.9.6"
  },
  "nteract": {
   "version": "0.12.3"
  },
  "varInspector": {
   "cols": {
    "lenName": 16,
    "lenType": 16,
    "lenVar": 40
   },
   "kernels_config": {
    "python": {
     "delete_cmd_postfix": "",
     "delete_cmd_prefix": "del ",
     "library": "var_list.py",
     "varRefreshCmd": "print(var_dic_list())"
    },
    "r": {
     "delete_cmd_postfix": ") ",
     "delete_cmd_prefix": "rm(",
     "library": "var_list.r",
     "varRefreshCmd": "cat(var_dic_list()) "
    }
   },
   "types_to_exclude": [
    "module",
    "function",
    "builtin_function_or_method",
    "instance",
    "_Feature"
   ],
   "window_display": false
  },
  "interpreter": {
   "hash": "c81c32d9c152ea23024a59f51f06ed68c08920343907634ac177f3a8d9364a2f"
  }
 },
 "nbformat": 4,
 "nbformat_minor": 2
}